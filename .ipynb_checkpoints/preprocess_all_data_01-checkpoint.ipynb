{
 "cells": [
  {
   "cell_type": "code",
   "execution_count": 9,
   "metadata": {},
   "outputs": [],
   "source": [
    "import json\n",
    "import numpy as np\n",
    "import collections\n",
    "import pandas as pd\n",
    "import csv\n",
    "import random"
   ]
  },
  {
   "cell_type": "code",
   "execution_count": 13,
   "metadata": {},
   "outputs": [],
   "source": [
    "filename = \"baseline_logs_01.json\""
   ]
  },
  {
   "cell_type": "code",
   "execution_count": 14,
   "metadata": {},
   "outputs": [],
   "source": [
    "with open(filename, 'r') as f:\n",
    "    all_logs = json.load(f)"
   ]
  },
  {
   "cell_type": "code",
   "execution_count": 4,
   "metadata": {},
   "outputs": [
    {
     "data": {
      "text/plain": [
       "{'insertId': '1d41hkig1097li2',\n",
       " 'jsonPayload': {'created': 1532326203.583701,\n",
       "  'levelname': 'INFO',\n",
       "  'lineno': 326,\n",
       "  'message': '[batch 137]: seen 5299200 words at 3202.4 wps, loss = 2.428',\n",
       "  'pathname': '/runcloudml.py'},\n",
       " 'labels': {'compute.googleapis.com/resource_id': '2080932681024947335',\n",
       "  'compute.googleapis.com/resource_name': 'cmle-training-ps-9780a94e1c-3-lv4rr',\n",
       "  'compute.googleapis.com/zone': 'us-central1-c',\n",
       "  'ml.googleapis.com/job_id': 'baseline_test_complex_model_l_03',\n",
       "  'ml.googleapis.com/job_id/log_area': 'root',\n",
       "  'ml.googleapis.com/task_name': 'ps-replica-3',\n",
       "  'ml.googleapis.com/trial_id': ''},\n",
       " 'logName': 'projects/muthderd-w266-000001/logs/ps-replica-3',\n",
       " 'receiveTimestamp': '2018-07-23T06:10:08.919353180Z',\n",
       " 'resource': {'labels': {'job_id': 'baseline_test_complex_model_l_03',\n",
       "   'project_id': 'muthderd-w266-000001',\n",
       "   'task_name': 'ps-replica-3'},\n",
       "  'type': 'ml_job'},\n",
       " 'severity': 'INFO',\n",
       " 'timestamp': '2018-07-23T06:10:03.583700895Z'}"
      ]
     },
     "execution_count": 4,
     "metadata": {},
     "output_type": "execute_result"
    }
   ],
   "source": [
    "all_logs[1294]"
   ]
  },
  {
   "cell_type": "code",
   "execution_count": 5,
   "metadata": {},
   "outputs": [
    {
     "data": {
      "text/plain": [
       "'[batch 137]: seen 5299200 words at 3202.4 wps, loss = 2.428'"
      ]
     },
     "execution_count": 5,
     "metadata": {},
     "output_type": "execute_result"
    }
   ],
   "source": [
    "all_logs[1294]['jsonPayload']['message']"
   ]
  },
  {
   "cell_type": "code",
   "execution_count": 6,
   "metadata": {},
   "outputs": [
    {
     "data": {
      "text/plain": [
       "dict"
      ]
     },
     "execution_count": 6,
     "metadata": {},
     "output_type": "execute_result"
    }
   ],
   "source": [
    "type(all_logs[0])"
   ]
  },
  {
   "cell_type": "code",
   "execution_count": 7,
   "metadata": {},
   "outputs": [
    {
     "data": {
      "text/plain": [
       "'Job cancelled.'"
      ]
     },
     "execution_count": 7,
     "metadata": {},
     "output_type": "execute_result"
    }
   ],
   "source": [
    "all_logs[0]['textPayload']"
   ]
  },
  {
   "cell_type": "code",
   "execution_count": 4,
   "metadata": {},
   "outputs": [],
   "source": [
    "generated_reviews = []\n",
    "for log in all_logs:\n",
    "    if 'jsonPayload' in log.keys():\n",
    "        payload = log['jsonPayload']\n",
    "        if 'message' in payload.keys():\n",
    "            message = payload['message']\n",
    "            if \"SOR\" in message:\n",
    "                generated_reviews.append(message)\n",
    "    #message = log['textPayload']\n",
    "    #if \"SOR\" in message:\n",
    "        #generated_reviews.append(message)"
   ]
  },
  {
   "cell_type": "code",
   "execution_count": 5,
   "metadata": {},
   "outputs": [
    {
     "name": "stdout",
     "output_type": "stream",
     "text": [
      "<SOR>of your browses, at least a few years later this is not to look thing, higher than the other folks in the clothing's, thats ordering this cook for. th\n",
      "<SOR>huge pool and cheese. the office is really gining our trip and driving up away, as well.  special artist was moving and few much in my night for a few\n",
      "<SOR>buffet in the day.  i will be back!<EOR>\n",
      "<SOR>went in, and loved it!!!<EOR>\n",
      "<SOR>food!<EOR>\n",
      "<SOR>one more than i stayed!<EOR>\n",
      "<SOR>the waitress sandwiched presentations on the chicken price conversation. their milk showers and sweetness energy worth you roof including & over rich \n",
      "<SOR>is the new york.spicy, a creamy potatoes and osh salad book needs to eat it, unfortunately stobe bels 's.i noticed that shenry is from best part of th\n",
      "<SOR>better combinations, friendly events. there are bonus!!!!i've seen the routine thing to suggest you have two stretches at a small card and my goodness\n",
      "<SOR>my taco is normally!! the best and this place is actually stalking and after we've had carrots before compliments of all the toohs. for the world.  de\n",
      "<SOR>we didunt, real shop, and a new crazy hummus. i did not find some money up just enough quiet items. the place is amazing and they come in right for th\n",
      "<SOR>discovered the fun i come out to the girl.  the pre-school salad was a sweet, seating and all so just a bottle of the dishes (or more matscheeling kay\n",
      "<SOR>great sushi brew (here you can tell leahal-art) once went with some of that!  i finally didn't want to drink at marghart crams that come here. as for \n",
      "<SOR>when we can't find but place was large for my favorite place where one of those dinners are also great. we live in the early and always return! leave \n",
      "<SOR>can touch me salt.  with the way change and definitely honest, we had a flighted headberries and meats. the food was continued. every size and course \n",
      "<SOR>my waiter, and let be meeting on a waiting door office. (yes, the paleage home to shrimp across the back tacos rango\", with efficients basically celeb\n",
      "<SOR>they were great that tight a comment of white sign.  the got them listed to a cheap of good comments into other restaurants all less changing waffles,\n",
      "<SOR>to top inside in fact, with a restaurant family freshly especially the park of quality lines. i sat on a couple of days of open man & good nachos (her\n",
      "<SOR>heaven was selicious.  with to grow and ballary may must be to have some of the apartments there with anything in love with the ton of anything specia\n",
      "<SOR>incredibly nice to an advice. everything was so fresh, and i am not coursed with their u-worst pieces. but just happy completely ask guest......=why i\n",
      "<SOR>with much lunch when we suggested. the sausage is perfect but my year ago did my own dirbs are definitely the best hard...the options were kind-- we a\n",
      "<SOR>and there was no strip off an upcome out of the city because i never tell everything that everyone is extremely friendly. imagine always gives me a mo\n",
      "<SOR>in the valley;this (bathroom, mord cardline flaburance:) so accommodating. i usually forget to class red heat more. my mom had no class wrong before e\n",
      "<SOR>and most of they really enjoyed our crepes....  when i ordered any champagne wrong impressions and i could have gone to weather but worth it!<EOR>\n",
      "<SOR>i was going to worry, but bled me and ladies knowing how much i was super awesome was handled an hour and only was kind.  it's a twicing in the progra\n",
      "<SOR>my wife has been able to say an airport a few appetizers and i had to talk about this place! all including hoon push other sauce stars is watering and\n",
      "<SOR>and clients to sake diagnoses your sturn's without fup.always know what to open up for us with a place that make some presentation fees himself as be \n",
      "<SOR>there came to their phone has just cleaned the fan. finally, the broasted risket bacon was easy. annual asian seating area and everything was amazing.\n",
      "<SOR>see most people so you dont look to easily read carles. color steve local kolboss j'agazicingrot, etc.  or a weekend note: its the perfectly banana tr\n",
      "<SOR>he called in an awesome tremendous perfect temperature of the quality in palace and had so much even if you love that.<EOR>\n",
      "<SOR>has the best base to everyone. the service is always amazing! this is located after his staff.  this is the master majority of the kondiead dishes and\n",
      "<SOR>you can try the package of fish.  with a massage, the hot burger roll beries carning pizza, 1) but pea bottles with discommand was great, delicious an\n",
      "<SOR>i'll say, even a more server in vegas to say, a used total dealer near everything like accept one<EOR>\n",
      "<SOR>in great, generally, happy and tasty salon!  they encouraged the girls.  i went with a swim store for now, regularly scheduled on future, chris, he wa\n",
      "<SOR>steak.  18:45 usural, it was super very friendly and had a fabulous pizza!!airya-agreeted we got a black tajara and were remarkable with little goods.\n",
      "<SOR>bucks!!!!!not great with a remember of the anumority, some of the same accompanied waiting of many saturdays as for me. there is what you like this ch\n",
      "<SOR>wasn't this. thanks so much early!<EOR>\n",
      "<SOR>for change. so right now and have a good outdoor spot to eat here. the service is quite in and when your need you grew up, but i did not give accompan\n",
      "<SOR>on the weeks.<EOR>\n",
      "<SOR>portasswims opened the top! i can't even have the buffalo options before i was quite deserved by a great iced crunch of both italian food. his card an\n",
      "<SOR>start to bump until she knew to ordering our veggiesserted powers for a lunch or the patty landscape!! she was a treat, and i will definitely come bac\n",
      "<SOR>with definitely discount yet, carmamen, but then from being styled so especially for the next day. there on its acty, makes you feel very attentive, b\n",
      "<SOR>went away before once we understand how to watch their dentist that i needed from work drinked.go.it's probably a good selection of hot patios before \n",
      "<SOR>- i haven't had a dress center interesting lots.last year, there's lots of theater worked provided to took their if we will still take gang.  we will \n",
      "<SOR>the fish was packed at the birthday too.  2. margaritas are so different!<EOR>\n",
      "<SOR>and i've yet to find this star roll club!<EOR>\n",
      "<SOR>our office attention to our soup or as a friend, the late visit it was scrient schrobbly. two smaller dessert places being happy hour and the flavorfu\n",
      "<SOR>for the experience here. so we can sweet different other things, their other jobs for i booked an ingredient. they aren't too...there is just making g\n",
      "<SOR>- nice and new or towel said, all that there record **7+5? there are best store plunchers, but today it's as great as it go sweet.<EOR>\n",
      "<SOR>{pair of crispy but which took a little cooked with tempura sprinkles, and their fact that their world was so helpful and private and knowledgeable, i\n",
      "<SOR>even sacepha okay (upon last, you get their table and the staff are amazing, your first time i forgot it was intimal but we do the amps area case. kid\n",
      "<SOR>he is very uptone and hopefully and their lunch taste really fluffy, but amazing, came out quite fresh and fluffy and topped with fries.  the girl imm\n",
      "<SOR>that neighborhood looks like a daigner (at even order montas fried bbq... experience atmosphere, don't feel like you're extra location scarpige, plent\n",
      "<SOR>but possibly the piercing of food compared to a seafood ballack place for brunch.they let you have dinner point with your own new favorite spa here. a\n",
      "<SOR>a can find my bathroom hair is my car.<EOR>\n",
      "<SOR>so i made friends and who always made a hassle here. i told to me what the cocktails were looking for while i would like to order from la best of the \n",
      "<SOR>great package, and although sorry<EOR>\n",
      "<SOR>when she says it was a bill burrito by noodles, at the fried general $75p in pizza was nice enough to help me just thank you in deals!!  #1.00 capus c\n",
      "<SOR>no other location. i find the size of the geast bottle of their own helpful regular way to how you go there, and highly recommend friends, i have adve\n",
      "<SOR>immediately with taxakin chili peanuts, changing, and caring trainers the dish! i really enjoy staying in phoenix for their manner has from the review\n",
      "<SOR>so we decided to give this a class and on dinner.this is the only downside-- being said it would be my sweathead. got acrea my edamame couples within \n",
      "<SOR>my favorite.  so i say this place is also perfect! the employees play from with everything gluten free fried rice and a hands down resist. along with \n",
      "<SOR>however, it tasted like a duck egg. word was wonderful.<EOR>\n",
      "<SOR>delicious!<EOR>\n",
      "<SOR>a true hard fix!!! the owner, egg, olive and potato was classy, simple and ill take the time to even have found the food is damn again i've never been\n",
      "<SOR>of the pace of 681.the fried onion, mo puts tinting! unsurely questions in us this place ended up perfectly. the food was outstanding, here is large a\n",
      "<SOR>upness sad right up a long window of camber but we had the share boke pipe but we sat at the end of the gep! paran is so good that they are very prima\n",
      "<SOR>we were with a bit of a regular life and she gave me a great summer pamportrile to tempe. the waitress was really super cool breakfast. she gives me c\n",
      "<SOR>made fresh meal. this was the mistake of a visit before  we were there with 3 different perfect shared fbq big goats, which were different and decentl\n",
      "<SOR>all of our company had cut out in. thank you mangreae! every sirul is amazing, and we got debis sitting myself.  i think the lovely more delivered the\n",
      "<SOR>pairless products not fancy.  trying to go anything on the guandi warm at about a hole...)staff, a little over their friendly. our new desserts at the\n",
      "<SOR>i love the ausperience of cost which i didn't enjoy.<EOR>\n",
      "<SOR>deals? at about 30 years now? manager took me to my eyecork hotel and paid the tickets, and then they should go to.i would definitely returned!<EOR>\n",
      "<SOR>$9. when we went to the moment i wanted one diner! so i thought its hard to come upon this place so i did not tell you it is.  i had dining at the dis\n",
      "<SOR>mini had a great experience. i've never felt surprised. it was heavy and crunchy. the house steaks was very comfortable, even with chicken-menu ((whic\n",
      "<SOR>incredibly genuinely professionalism and efficient management food too!<EOR>\n",
      "<SOR>have on time to get back so on the night.  he usually knew wow up to a mausgland of beef before and ampped me fun! a small, lot of friends seering a t\n",
      "<SOR>full beef and well smelly stuffed with business and all are right! amazing him review.one of the sweet beef beans and shrimp that laughers are fast. t\n",
      "<SOR>always feel like i'm in pancake. if you havent really don't actually precise i'd take your bar eclunch but you won't be disappointed - hytor does a fa\n",
      "<SOR>b/flowers in a great place. we like their dave and potato schedule for any husband by far. and the rest of the in law is amazing. he has a very attent\n",
      "<SOR>50 minutes, i set it for that! the bread sleegles of mill and roberts, listen of miar screens and surgedge and to taste. my quide of the side of me!it\n",
      "<SOR>going to tob!  a clean city the staff were so fun, and he was generous. i selected places (so coming to the wait. the limo are a stylist instead of th\n",
      "<SOR>8-12 buddies (sweet bananas - towards the bass) movewelry for a couple of themselves within a $10 little bite.competitive baked portion of that after \n",
      "<SOR>beats that this place is, but it is not at fural potatoes or special bases on people that i understand one of the best. the call standing on the deal \n",
      "<SOR>and they only take some quite shopping and bright and hearty.if you're not a big fan of issues, but highly recommended!<EOR>\n",
      "<SOR>we've always made it for a haircut. i'm really disappointed with this chinese food at the lot as far as the store normally friday covered it and offer\n",
      "<SOR>(honest for extensive each class looking for the layer mushroom store) was the sample of peanuts in the shape of country. creamy, pulled pork, atmosph\n",
      "<SOR>card challenge. just drink at list on bad.  if you are in my last dont-'n care your desert, updates you try a time....experience that they aren't meal\n",
      "<SOR>customer service is just on the puts very enough to get on before i would have lucky. loved that the wait staff was great, not great and offering up t\n",
      "<SOR>so i looked at words on my second review, to come tolarized. really loved it!<EOR>\n",
      "<SOR>sat one i even gave off a dieco neighborhood before getting a paid of it. especially since i was just not sure if my books had that side of the \"charf\n",
      "<SOR>the perfect beef shop. i like the inventory staff and i also liked their cauring potatoes. prices are bigger than your humous if not transtored.plus, \n",
      "<SOR>walked in and when i colored the strip! there was eight shampha friends.  soup with loss working or red readed the polento for quick needs and tussed \n",
      "<SOR>it didn't just cash i can give you it right move here. my prepared other place is awesome. stereals are far among your boyfriend or backs and trying o\n",
      "<SOR>full places ((19 country) of leagues are at great place to go as i bought 3 smiles. why comes great but they are super low clean with real huge. they \n",
      "<SOR>and all just when i wants to wait!!!!!<EOR>\n",
      "<SOR>japanese, friendly reviews, the guy enjoyed the products. i can say how they were burgers. you can see showouts. i have been to her in front of your w\n",
      "<SOR>proudly experienced promotions i wouldn't return and get your man!vi you have amazing staff and i will love the quality of the salon!!! a hotel or nic\n",
      "<SOR>you name 1230 for it and will recommend as i look forward to her at this place! leaving example of the areas are the staff and method skirt shouts of \n",
      "<SOR>for healthy areas nriss into the service. overall, i am not taken about any four of the staff to go, it can tell you that but this is so memorable unt\n"
     ]
    }
   ],
   "source": [
    "for review in generated_reviews:\n",
    "    print(review)"
   ]
  },
  {
   "cell_type": "code",
   "execution_count": 24,
   "metadata": {},
   "outputs": [
    {
     "data": {
      "text/plain": [
       "'<SOR>(honest for extensive each class looking for the layer mushroom store) was the sample of peanuts in the shape of country. creamy, pulled pork, atmosph'"
      ]
     },
     "execution_count": 24,
     "metadata": {},
     "output_type": "execute_result"
    }
   ],
   "source": [
    "generated_reviews[0]"
   ]
  },
  {
   "cell_type": "code",
   "execution_count": 19,
   "metadata": {},
   "outputs": [],
   "source": [
    "#build a list of list of characters from the 5-star reviews\n",
    "def preprocess_review_series(review_series):\n",
    "    review_list = []\n",
    "    for new_review in review_series:\n",
    "        clipped_review = new_review[2:-1]\n",
    "        char_list = list(clipped_review.lower())\n",
    "        semifinal_review = []\n",
    "        last_char = ''\n",
    "        for ascii_char in char_list:\n",
    "            if ascii_char == '\\\\' or last_char == '\\\\':\n",
    "                pass\n",
    "            else:\n",
    "                #isascii = lambda s: len(s) == len(s.encode())\n",
    "                semifinal_review.append(ascii_char)\n",
    "            last_char = ascii_char\n",
    "        if len(semifinal_review) > 300:\n",
    "            final_review = ['<SOR>'] + semifinal_review + ['<EOR>']\n",
    "            #print(final_review)\n",
    "            review_list.append(final_review)\n",
    "    return review_list\n",
    "\n",
    "def get_review_series(review_path = '/home/kalvin_kao/yelp_challenge_dataset/review.csv'):\n",
    "    #review_path = '/home/kalvin_kao/yelp_challenge_dataset/review.csv'\n",
    "    review_df = pd.read_csv(review_path)\n",
    "    five_star_review_df = review_df[review_df['stars']==5]\n",
    "    #five_star_review_series = five_star_review_df['text']\n",
    "    return five_star_review_df['text']\n",
    "\n",
    "def get_business_list(business_path = '/home/kalvin_kao/yelp_challenge_dataset/business.csv'):\n",
    "    #business_path = '/home/kalvin_kao/yelp_challenge_dataset/business.csv'\n",
    "    return pd.read_csv(business_path)\n",
    "\n",
    "def split_train_test(review_list, training_samples, test_samples):\n",
    "    #pass in randomized review list\n",
    "    train_len = int(np.floor(0.8*len(review_list)))\n",
    "    test_len = int(np.floor(0.2*len(review_list)))\n",
    "    training_review_list = review_list[:train_len]\n",
    "    testing_review_list = review_list[-test_len:]\n",
    "    randomized_training_list = random.sample(training_review_list, training_samples)\n",
    "    randomized_testing_list = random.sample(testing_review_list, test_samples)\n",
    "    training_review_list = [item for sublist in randomized_training_list for item in sublist]\n",
    "    print(\"number of training characters\", len(training_review_list))\n",
    "    test_review_list = [item for sublist in randomized_testing_list for item in sublist]\n",
    "    print(\"number of test characters\", len(test_review_list))\n",
    "    return randomized_training_list, randomized_testing_list\n",
    "\n",
    "def make_train_test_data(five_star_review_series, training_samples=25000, test_samples=6250):\n",
    "    #fix randomization to prevent evaluation on trained samples\n",
    "    review_list = preprocess_review_series(five_star_review_series)\n",
    "    np.random.shuffle(review_list)\n",
    "    #split into 3 for 1) attack, 2) defense, and 3) GAN\n",
    "    one_third_len = int(np.floor(0.33*len(review_list)))\n",
    "    attack_review_list = review_list[:one_third_len]\n",
    "    #attack_training_samples = 25000\n",
    "    #attack_test_samples = 6250\n",
    "    defense_review_list = review_list[one_third_len:(2*one_third_len)]\n",
    "    #defense_training_samples = 25000\n",
    "    #defense_test_samples = 6250\n",
    "    gan_review_list = review_list[-one_third_len:]\n",
    "    #gan_training_samples = 25000\n",
    "    #gan_test_samples = 6250\n",
    "    #split and shuffle the data for attack\n",
    "    attack_training_review_list, attack_test_review_list = split_train_test(attack_review_list, training_samples, test_samples)\n",
    "    defense_training_review_list, defense_test_review_list = split_train_test(attack_review_list, training_samples, test_samples)\n",
    "    gan_training_review_list, gan_test_review_list = split_train_test(attack_review_list, training_samples, test_samples)\n",
    "    return attack_training_review_list, attack_test_review_list, defense_training_review_list, defense_test_review_list, gan_training_review_list, gan_test_review_list\n",
    "\n",
    "def make_vocabulary(training_review_list, test_review_list):\n",
    "    unique_characters = list(set(training_review_list + test_review_list))\n",
    "    #vocabulary\n",
    "    char_dict = {w:i for i, w in enumerate(unique_characters)}\n",
    "    ids_to_words = {v: k for k, v in char_dict.items()}\n",
    "    return char_dict, ids_to_words\n",
    "\n",
    "def convert_to_ids(char_dict, review_list):\n",
    "    #convert to flat (1D) np.array(int) of ids\n",
    "    review_ids = [char_dict.get(token) for token in review_list]\n",
    "    return np.array(review_ids)"
   ]
  },
  {
   "cell_type": "code",
   "execution_count": 7,
   "metadata": {},
   "outputs": [],
   "source": [
    "review_path = '/home/kalvin_kao/yelp_challenge_dataset/review.csv'"
   ]
  },
  {
   "cell_type": "code",
   "execution_count": 22,
   "metadata": {},
   "outputs": [
    {
     "name": "stdout",
     "output_type": "stream",
     "text": [
      "number of training characters 17890192\n",
      "number of test characters 4468583\n",
      "number of training characters 18091570\n",
      "number of test characters 4481422\n",
      "number of training characters 17864112\n",
      "number of test characters 4496107\n"
     ]
    }
   ],
   "source": [
    "five_star_reviews = get_review_series(review_path)\n",
    "training_samples = 25000\n",
    "test_samples = 6250\n",
    "attack_training_review_list, attack_test_review_list, defense_training_review_list, defense_test_review_list, gan_training_review_list, gan_test_review_list = make_train_test_data(five_star_reviews, training_samples, test_samples)"
   ]
  },
  {
   "cell_type": "code",
   "execution_count": 20,
   "metadata": {},
   "outputs": [
    {
     "name": "stdout",
     "output_type": "stream",
     "text": [
      "number of training characters 2979\n",
      "number of test characters 733\n"
     ]
    }
   ],
   "source": [
    "np.random.shuffle(generated_reviews)\n",
    "generated_training_review_list, generated_test_review_list = split_train_test(generated_reviews, training_samples=20, test_samples=5)"
   ]
  },
  {
   "cell_type": "code",
   "execution_count": 25,
   "metadata": {},
   "outputs": [
    {
     "data": {
      "text/plain": [
       "\"<SOR>a true hard fix!!! the owner, egg, olive and potato was classy, simple and ill take the time to even have found the food is damn again i've never been\""
      ]
     },
     "execution_count": 25,
     "metadata": {},
     "output_type": "execute_result"
    }
   ],
   "source": [
    "generated_training_review_list[0]"
   ]
  },
  {
   "cell_type": "code",
   "execution_count": 21,
   "metadata": {},
   "outputs": [],
   "source": [
    "with open(\"artificial_train_data.csv\", \"w\") as output:\n",
    "    writer = csv.writer(output, lineterminator='\\n')\n",
    "    writer.writerows(generated_training_review_list)"
   ]
  },
  {
   "cell_type": "code",
   "execution_count": null,
   "metadata": {},
   "outputs": [],
   "source": [
    "with open(\"artificial_test_data.csv\", \"w\") as output:\n",
    "    writer = csv.writer(output, lineterminator='\\n')\n",
    "    writer.writerows(generated_test_review_list)"
   ]
  },
  {
   "cell_type": "code",
   "execution_count": 23,
   "metadata": {},
   "outputs": [],
   "source": [
    "with open(\"attack_train_data.csv\", \"w\") as output:\n",
    "    writer = csv.writer(output, lineterminator='\\n')\n",
    "    writer.writerows(attack_training_review_list)"
   ]
  },
  {
   "cell_type": "code",
   "execution_count": null,
   "metadata": {},
   "outputs": [],
   "source": [
    "with open(\"attack_test_data.csv\", \"w\") as output:\n",
    "    writer = csv.writer(output, lineterminator='\\n')\n",
    "    writer.writerows(attack_test_review_list)"
   ]
  },
  {
   "cell_type": "code",
   "execution_count": null,
   "metadata": {},
   "outputs": [],
   "source": [
    "with open(\"defense_train_data.csv\", \"w\") as output:\n",
    "    writer = csv.writer(output, lineterminator='\\n')\n",
    "    writer.writerows(defense_training_review_list)"
   ]
  },
  {
   "cell_type": "code",
   "execution_count": null,
   "metadata": {},
   "outputs": [],
   "source": [
    "with open(\"defense_test_data.csv\", \"w\") as output:\n",
    "    writer = csv.writer(output, lineterminator='\\n')\n",
    "    writer.writerows(defense_test_review_list)"
   ]
  },
  {
   "cell_type": "code",
   "execution_count": null,
   "metadata": {},
   "outputs": [],
   "source": [
    "with open(\"gan_train_data.csv\", \"w\") as output:\n",
    "    writer = csv.writer(output, lineterminator='\\n')\n",
    "    writer.writerows(gan_training_review_list)"
   ]
  },
  {
   "cell_type": "code",
   "execution_count": null,
   "metadata": {},
   "outputs": [],
   "source": [
    "with open(\"gan_test_data.csv\", \"w\") as output:\n",
    "    writer = csv.writer(output, lineterminator='\\n')\n",
    "    writer.writerows(gan_test_review_list)"
   ]
  },
  {
   "cell_type": "code",
   "execution_count": 39,
   "metadata": {},
   "outputs": [
    {
     "name": "stdout",
     "output_type": "stream",
     "text": [
      "['<SOR>', 'b', 'e', 's', 't', ' ', 'c', 'l', 'u', 'b', ' ', 'i', \"'\", 'v', 'e', ' ', 'b', 'e', 'e', 'n', ' ', 't', 'o', ' ', 'i', 'n', ' ', 'v', 'e', 'g', 'a', 's', '-', '-', '-', 'p', 'r', 'o', 'b', 'a', 'b', 'l', 'y', ' ', 't', 'h', 'e', ' ', 'b', 'e', 's', 't', ' ', 'i', \"'\", 'v', 'e', ' ', 'b', 'e', 'e', 'n', ' ', 't', 'o', ' ', 'e', 'v', 'e', 'r', '.', 'h', 'i', 'p', ' ', 'h', 'o', 'p', ' ', 'r', 'o', 'o', 'm', ' ', 'i', 's', ' ', 's', 'm', 'a', 'l', 'l', ' ', 'b', 'u', 't', ' ', 't', 'h', 'e', 'y', ' ', 'p', 'l', 'a', 'y', ' ', 's', 'o', 'm', 'e', ' ', 'g', 'o', 'o', 'd', ' ', 'o', 'l', 'd', 'i', 'e', 's', ' ', '(', 'r', 'a', 'p', '/', 'h', 'i', 'p', 'h', 'o', 'p', ')', ' ', 't', 'h', 'a', 't', ' ', 'i', ' ', 'n', 'e', 'v', 'e', 'r', ' ', 'k', 'n', 'e', 'w', ' ', 'i', ' ', 'm', 'i', 's', 's', 'e', 'd', ' ', 's', 'o', ' ', 'm', 'u', 'c', 'h', '.', 't', 'h', 'e', 'i', 'r', ' ', 'l', 'i', 'g', 'h', 't', ' ', 'i', 'n', 's', 't', 'a', 'l', 'l', 'a', 't', 'i', 'o', 'n', ' ', 'i', 'n', ' ', 't', 'h', 'e', ' ', 'e', 'd', 'm', ' ', 'r', 'o', 'o', 'm', ' ', 'i', 's', ' ', 'a', 'm', 'a', 'z', 'i', 'n', 'g', '.', ' ', 'n', 'o', 't', 'e', 's', ':', '*', ' ', 'l', 'a', 'r', 'g', 'e', ' ', 'o', 'u', 't', 'd', 'o', 'o', 'r', ' ', 'a', 'r', 'e', 'a', ' ', 'w', 'i', 't', 'h', ' ', 'g', 'a', 'm', 'b', 'l', 'i', 'n', 'g', ' ', 't', 'a', 'b', 'l', 'e', 's', ' ', '(', 'w', 'a', 'h', 'h', 'h', 'h', 'h', 't', 't', 't', '?', '?', '?', '?', '?', ')', '*', ' ', 'e', 'd', 'm', ' ', 'r', 'o', 'o', 'm', ' ', 'l', 'i', 'g', 'h', 't', 's', ' ', 'a', 'r', 'e', ' ', 'm', 'e', 's', 'm', 'e', 'r', 'i', 'z', 'i', 'n', 'g', '*', ' ', 'd', 'r', 'i', 'n', 'k', 's', ' ', 'a', 'r', 'e', ' ', 'e', 'x', 'p', 'e', 'n', 's', 'i', 'v', 'e', ',', ' ', 'b', 'u', 't', ' ', 'w', 'h', 'e', 'r', 'e', ' ', 'i', 's', ' ', 'i', 't', ' ', 'n', 'o', 't', ' ', 'i', 'n', ' ', 'v', 'e', 'g', 'a', 's', '?', '*', ' ', 'b', 'r', 'i', 'n', 'g', ' ', 'f', 'o', 'l', 'd', 'i', 'n', 'g', ' ', 'f', 'l', 'a', 't', 's', '.', ' ', 't', 'h', 'a', 'n', 'k', ' ', 'm', 'e', ' ', 'l', 'a', 't', 'e', 'r', '.', '<EOR>']\n",
      "\n",
      "['<SOR>', 'a', 't', 'm', 'o', 's', 'p', 'h', 'e', 'r', 'e', ',', ' ', 'l', 'i', 'g', 'h', 't', 'i', 'n', 'g', ',', ' ', 'm', 'u', 's', 'i', 'c', ',', ' ', 'g', 'o', 'o', 'd', ' ', 's', 'e', 'r', 'v', 'i', 'c', 'e', ' ', 'a', 'n', 'd', ' ', 'd', 'e', 'l', 'i', 'c', 'i', 'o', 'u', 's', ' ', 'f', 'o', 'o', 'd', ' ', 'i', 's', ' ', 'a', 'l', 'l', ' ', 'i', ' ', 'e', 'v', 'e', 'r', ' ', 'a', 's', 'k', ' ', 'f', 'o', 'r', ' ', 'w', 'h', 'e', 'n', ' ', 'd', 'i', 'n', 'i', 'n', 'g', ' ', 'o', 'u', 't', ' ', 'w', 'i', 't', 'h', ' ', 'f', 'r', 'i', 'e', 'n', 'd', 's', '.', ' ', 'l', 'e', ' ', 'b', 'a', 'r', 'a', 't', 'i', 'n', ' ', 'b', 'r', 'o', 'u', 'g', 'h', 't', ' ', 'a', 'l', 'l', ' ', 'o', 'f', ' ', 't', 'h', 'e', 's', 'e', ' ', 'a', 's', 'p', 'e', 'c', 't', 's', ' ', 't', 'o', 'g', 'e', 't', 'h', 'e', 'r', ' ', 'a', 'n', 'd', ' ', 'm', 'a', 'd', 'e', ' ', 'm', 'y', ' ', 'e', 'a', 't', 'i', 'n', 'g', ' ', 'e', 'x', 'p', 'e', 'r', 'i', 'e', 'n', 'c', 'e', ' ', 'a', ' ', 'v', 'e', 'r', 'y', ' ', 'r', 'e', 'm', 'a', 'r', 'k', 'a', 'b', 'l', 'e', ' ', 'o', 'n', 'e', '.', ' ', 'i', ' ', 'w', 'e', 'n', 't', ' ', 'w', 'i', 't', 'h', ' ', 'a', ' ', 'l', 'a', 'r', 'g', 'e', ' ', 'g', 'r', 'o', 'u', 'p', ' ', 'o', 'f', ' ', 'f', 'r', 'i', 'e', 'n', 'd', 's', ' ', 'b', 'e', 'f', 'o', 'r', 'e', ' ', 't', 'h', 'e', ' ', 'r', 'e', 's', 't', 'a', 'u', 'r', 'a', 'n', 't', ' ', 's', 'w', 'i', 't', 'c', 'h', 'e', 'd', ' ', 'o', 'v', 'e', 'r', ' ', 't', 'o', ' ', 't', 'h', 'e', 'i', 'r', ' ', 'd', 'i', 'n', 'n', 'e', 'r', ' ', 'm', 'e', 'n', 'u', '.', ' ', 't', 'h', 'e', 'y', ' ', 'w', 'e', 'r', 'e', ' ', 'v', 'e', 'r', 'y', ' ', 'p', 'a', 't', 'i', 'e', 'n', 't', ' ', 'w', 'i', 't', 'h', ' ', 'u', 's', ' ', 'a', 'n', 'd', ' ', 'a', 'l', 'l', 'o', 'w', 'e', 'd', ' ', 'u', 's', ' ', 'l', 'o', 't', 's', ' ', 'o', 'f', ' ', 't', 'i', 'm', 'e', ' ', 't', 'o', ' ', 'd', 'e', 'c', 'i', 'd', 'e', ' ', 'w', 'h', 'a', 't', ' ', 't', 'o', ' ', 'o', 'r', 'd', 'e', 'r', '.', ' ', 'i', 't', ' ', 'w', 'a', 's', ' ', 'r', 'a', 'i', 'n', 'i', 'n', 'g', ' ', 'h', 'e', 'a', 'v', 'i', 'l', 'y', ' ', 'o', 'u', 't', 's', 'i', 'd', 'e', ' ', 'a', 'n', 'd', ' ', 's', 'o', ' ', 'a', 's', 'i', 'd', 'e', ' ', 'f', 'r', 'o', 'm', ' ', 'm', 'y', ' ', 'g', 'r', 'o', 'u', 'p', ' ', 'o', 'f', ' ', 'f', 'r', 'i', 'e', 'n', 'd', 's', ' ', 'a', 'n', 'd', ' ', '2', ' ', 'o', 't', 'h', 'e', 'r', ' ', 'p', 'e', 'o', 'p', 'l', 'e', ',', ' ', 'w', 'e', ' ', 'w', 'e', 'r', 'e', ' ', 'a', 'l', 'o', 'n', 'e', ' ', 'w', 'h', 'i', 'c', 'h', ' ', 'w', 'a', 's', ' ', 'g', 'r', 'e', 'a', 't', '!', ' ', 't', 'h', 'e', ' ', 'f', 'o', 'o', 'd', ' ', 'w', 'a', 's', ' ', 'd', 'e', 'l', 'i', 'c', 'i', 'o', 'u', 's', '!', ' ', 't', 'h', 'i', 's', ' ', 'w', 'a', 's', ' ', 'm', 'y', ' ', 'f', 'i', 'r', 's', 't', ' ', 't', 'i', 'm', 'e', ' ', 't', 'r', 'y', 'i', 'n', 'g', ' ', 'f', 'r', 'e', 'n', 'c', 'h', ' ', 'f', 'o', 'o', 'd', ' ', 'i', 'n', ' ', 't', 'o', 'r', 'o', 'n', 't', 'o', ' ', 'a', 'n', 'd', ' ', 'i', 't', ' ', 'w', 'a', 's', ' ', 'g', 'r', 'e', 'a', 't', '!', ' ', 'i', ' ', 'h', 'a', 'd', ' ', 'a', ' ', 'b', 'i', 't', 'e', ' ', 'o', 'f', ' ', 'm', 'y', ' ', 'f', 'r', 'i', 'e', 'n', 'd', 's', ' ', 'd', 'i', 's', 'h', 'e', 's', ' ', 'a', 'n', 'd', ' ', 't', 'h', 'e', 'y', ' ', 't', 'a', 's', 't', 'e', 'd', ' ', 'j', 'u', 's', 't', ' ', 'a', 's', ' ', 'g', 'r', 'e', 'a', 't', ' ', 'a', 's', ' ', 'm', 'i', 'n', 'e', '.', ' ', 'i', ' ', 'o', 'r', 'd', 'e', 'r', 'e', 'd', ' ', 't', 'h', 'e', ' ', '\"', 'b', 'a', 'r', 'a', 't', 'i', 'n', ' ', 'p', 'l', 'o', 'u', 'g', 'h', 'm', 'a', 'n', '\"', ' ', 'w', 'h', 'i', 'c', 'h', ' ', 'h', 'a', 'd', ' ', 'm', 'a', 'n', 'y', ' ', 'd', 'i', 'f', 'f', 'e', 'r', 'e', 'n', 't', ' ', 'c', 'o', 'm', 'p', 'o', 'n', 'e', 'n', 't', 's', ' ', 'o', 'n', ' ', 't', 'h', 'e', ' ', 'p', 'l', 'a', 't', 'e', ' ', 'w', 'h', 'i', 'c', 'h', ' ', 's', 'a', 't', 'i', 's', 'f', 'i', 'e', 's', ' ', 'h', 'o', 'w', ' ', 'i', ' ', 'p', 'e', 'r', 's', 'o', 'n', 'a', 'l', 'l', 'y', ' ', 'l', 'i', 'k', 'e', ' ', 't', 'o', ' ', 'e', 'a', 't', '.', ' ', 'm', 'y', ' ', 'f', 'r', 'i', 'e', 'n', 'd', 's', ' ', 'o', 'r', 'd', 'e', 'r', 'e', 'd', ' ', 't', 'h', 'e', ' ', '\"', 'b', 'a', 'k', 'e', 'd', ' ', 'f', 'r', 'e', 'n', 'c', 'h', ' ', 't', 'o', 'a', 's', 't', '\"', ' ', 'w', 'h', 'i', 'c', 'h', ' ', 'w', 'a', 's', ' ', 'a', 'b', 's', 'o', 'l', 'u', 't', 'e', 'l', 'y', ' ', 'h', 'e', 'a', 'v', 'e', 'n', 'l', 'y', '.', ' ', 'o', 'n', 'e', ' ', 'f', 'r', 'i', 'e', 'n', 'd', ' ', 'h', 'a', 't', 'e', 's', ' ', 'w', 'h', 'i', 'p', 'p', 'e', 'd', ' ', 'c', 'r', 'e', 'a', 'm', ' ', 'h', 'o', 'w', 'e', 'v', 'e', 'r', ',', ' ', 't', 'h', 'e', ' ', 'c', 'r', 'e', 'a', 'm', ' ', 't', 'h', 'a', 't', ' ', 'l', 'e', ' ', 'b', 'a', 'r', 'a', 't', 'i', 'n', ' ', 'p', 'r', 'e', 's', 'e', 'n', 't', 'e', 'd', ' ', 'w', 'a', 's', ' ', 'o', 'n', 'e', ' ', 't', 'h', 'a', 't', ' ', 's', 'h', 'e', ' ', 'a', 'b', 's', 'o', 'l', 'u', 't', 'e', 'l', 'y', ' ', 'l', 'o', 'v', 'e', 'd', '.', ' ', 't', 'h', 'e', ' ', '\"', 't', 'a', 'r', 't', 'i', 'f', 'l', 'e', 't', 't', 'e', '\"', ' ', 'l', 'o', 'o', 'k', 'e', 'd', ' ', 'l', 'i', 'k', 'e', ' ', 'a', ' ', 'c', 'h', 'e', 'e', 's', 'e', ' ', 'l', 'o', 'v', 'e', 'r', 's', ' ', 'p', 'a', 'r', 'a', 'd', 'i', 's', 'e', ',', ' ', 's', 'o', ' ', 'i', ' ', 'w', 'o', 'u', 'l', 'd', ' ', 'o', 'r', 'd', 'e', 'r', ' ', 't', 'h', 'a', 't', ' ', 'i', 'f', ' ', 'y', 'o', 'u', ' ', 'l', 'o', 'v', 'e', ' ', 'o', 'v', 'e', 'r', 'f', 'l', 'o', 'w', 'i', 'n', 'g', ' ', 'c', 'h', 'e', 'e', 's', 'y', ' ', 'g', 'o', 'o', 'd', 'n', 'e', 's', 's', '!', ' ', 't', 'h', 'e', ' ', '\"', 'l', 'u', 'm', 'b', 'e', 'r', 'j', 'a', 'c', 'k', ' ', 'o', 'm', 'e', 'l', 'e', 't', 't', 'e', '\"', ' ', 'w', 'a', 's', ' ', 's', 'o', ' ', 'd', 'e', 'l', 'i', 'c', 'i', 'o', 'u', 's', ' ', 't', 'h', 'a', 't', ' ', 'm', 'y', ' ', 'f', 'r', 'i', 'e', 'n', 'd', ' ', 'f', 'i', 'n', 'i', 's', 'h', 'e', 'd', ' ', 'h', 'i', 's', ' ', 'd', 'i', 's', 'h', ' ', 'f', 'a', 's', 't', 'e', 'r', ' ', 't', 'h', 'a', 'n', ' ', 'a', 'l', 'l', ' ', 'o', 'f', ' ', 'u', 's', '.', ' ', 'l', 'a', 's', 't', 'l', 'y', ',', ' ', 'i', 'f', ' ', 'y', 'o', 'u', ' ', 'a', 'r', 'e', ' ', 'a', ' ', 'f', 'a', 'n', ' ', 'o', 'f', ' ', 't', 'u', 'n', 'a', ',', ' ', 'i', ' ', 'w', 'o', 'u', 'l', 'd', ' ', 'r', 'e', 'c', 'o', 'm', 'm', 'e', 'n', 'd', ' ', 't', 'h', 'e', ' ', '\"', 't', 'a', 'r', 't', 'i', 'n', 'e', 's', ',', ' ', 't', 'u', 'n', 'a', ' ', 't', 'w', 'i', 's', 't', '\"', ' ', 't', 'h', 'a', 't', ' ', 'l', 'o', 'o', 'k', 'e', 'd', ' ', 'r', 'e', 'a', 'l', 'l', 'y', ' ', 'g', 'o', 'o', 'd', ' ', 't', 'o', 'o', '.', ' ', 'i', ' ', 'w', 'i', 'l', 'l', ' ', 'c', 'e', 'r', 't', 'a', 'i', 'n', 'l', 'y', ' ', 'b', 'e', ' ', 'c', 'o', 'm', 'i', 'n', 'g', ' ', 'b', 'a', 'c', 'k', ' ', 'a', 'g', 'a', 'i', 'n', ' ', 'b', 'e', 'c', 'a', 'u', 's', 'e', ' ', 't', 'h', 'i', 's', ' ', 'e', 'x', 'p', 'e', 'r', 'i', 'e', 'n', 'c', 'e', ' ', 'w', 'a', 's', ' ', 'm', 'a', 'g', 'n', 'i', 'f', 'i', 'q', 'u', 'e', '!', '<EOR>']\n",
      "\n",
      "['<SOR>', 'i', 'v', 'e', ' ', 'b', 'e', 'e', 'n', ' ', 'o', 'n', ' ', 'a', ' ', 'h', 'u', 'n', 't', ' ', 'f', 'o', 'r', ' ', 'a', ' ', 'g', 'o', 'o', 'd', ' ', 'j', 'a', 'p', 'a', 'n', 'e', 's', 'e', ' ', 'c', 'u', 'r', 'r', 'y', ' ', '(', 'k', 'a', 'r', 'e', 'i', ' ', 'r', 'a', 'i', 's', 'u', ')', ' ', 'o', 'n', ' ', 't', 'h', 'i', 's', ' ', 's', 'i', 'd', 'e', ' ', 'o', 'f', ' ', 't', 'o', 'w', 'n', ' ', 'f', 'o', 'r', ' ', 'a', ' ', 'w', 'h', 'i', 'l', 'e', ',', ' ', 'a', 'n', 'd', ' ', 's', 'u', 's', 'h', 'i', ' ', 'h', 'i', 'r', 'o', ' ', 'd', 'e', 'l', 'i', 'v', 'e', 'r', 'e', 'd', '!', ' ', 'i', 't', ' ', 'w', 'a', 's', ' ', 'a', ' ', 'g', 'r', 'e', 'a', 't', ',', ' ', 'n', 'e', 'a', 'r', 'l', 'y', '-', 'a', 'u', 't', 'h', 'e', 'n', 't', 'i', 'c', ' ', 'j', 'a', 'p', 'a', 'n', 'e', 's', 'e', ' ', 'e', 'x', 'p', 'e', 'r', 'i', 'e', 'n', 'c', 'e', ' ', 'a', 'n', 'd', ' ', 'i', ' ', 'c', 'a', 'n', 't', ' ', 'w', 'a', 'i', 't', ' ', 't', 'o', ' ', 'g', 'o', ' ', 'b', 'a', 'c', 'k', '.', ' ', 'w', 'h', 'e', 'n', ' ', 'w', 'e', ' ', 'f', 'i', 'r', 's', 't', ' ', 'w', 'a', 'l', 'k', 'e', 'd', ' ', 'i', 'n', ',', ' ', 'a', 'l', 'l', ' ', 't', 'h', 'e', ' ', 's', 't', 'a', 'f', 'f', ' ', 'g', 'a', 'v', 'e', ' ', 'a', ' ', 'h', 'e', 'a', 'r', 't', 'y', ' ', '\"', 'i', 'r', 'a', 's', 's', 'h', 'a', 'i', 'm', 'a', 's', 'e', '!', '\"', ' ', '-', ' ', '\"', 'w', 'e', 'l', 'c', 'o', 'm', 'e', '!', '\"', ' ', '-', ' ', 'w', 'h', 'i', 'c', 'h', ' ', 'w', 'a', 's', ' ', 'a', ' ', 'g', 'o', 'o', 'd', ' ', 's', 'i', 'g', 'n', '.', ' ', 'a', 'f', 't', 'e', 'r', ' ', 'w', 'e', ' ', 'w', 'e', 'r', 'e', ' ', 's', 'e', 'a', 't', 'e', 'd', ',', ' ', 'w', 'e', ' ', 'w', 'e', 'r', 'e', ' ', 'g', 'i', 'v', 'e', 'n', ' ', 'h', 'o', 't', ' ', 't', 'o', 'w', 'e', 'l', 's', ' ', '(', 'o', '-', 's', 'h', 'i', 'b', 'o', 'r', 'i', ')', ' ', 'f', 'o', 'r', ' ', 'w', 'a', 's', 'h', 'i', 'n', 'g', ' ', 'o', 'u', 'r', ' ', 'h', 'a', 'n', 'd', 's', ',', ' ', 'a', 'n', 'o', 't', 'h', 'e', 'r', ' ', 't', 'r', 'a', 'd', 'i', 't', 'i', 'o', 'n', ' ', 'y', 'o', 'u', ' ', 's', 'e', 'e', ' ', 'i', 'n', ' ', 'j', 'a', 'p', 'a', 'n', ' ', 'b', 'u', 't', ' ', 'n', 'o', 't', ' ', 's', 'o', ' ', 'm', 'u', 'c', 'h', ' ', 'i', 'n', ' ', 'j', 'a', 'p', 'a', 'n', 'e', 's', 'e', ' ', 'r', 'e', 's', 't', 'a', 'u', 'r', 'a', 'n', 't', 's', ' ', 'h', 'e', 'r', 'e', '.', ' ', 't', 'w', 'o', ' ', 'f', 'o', 'r', ' ', 't', 'w', 'o', ' ', 'f', 'o', 'r', ' ', 'h', 'i', 't', 't', 'i', 'n', 'g', ' ', 't', 'h', 'e', ' ', '\"', 'a', 'u', 't', 'h', 'e', 'n', 't', 'i', 'c', '\"', ' ', 'j', 'a', 'p', 'a', 'n', 'e', 's', 'e', ' ', 'r', 'e', 's', 't', 'a', 'u', 'r', 'a', 'n', 't', ' ', 'e', 'x', 'p', 'e', 'r', 'i', 'e', 'n', 'c', 'e', '!', 'w', 'h', 'i', 'l', 'e', ' ', 'w', 'e', ' ', 'k', 'n', 'e', 'w', ' ', 'w', 'h', 'a', 't', ' ', 'w', 'e', ' ', 'w', 'a', 'n', 't', 'e', 'd', ',', ' ', 'w', 'e', ' ', 'l', 'o', 'o', 'k', 'e', 'd', ' ', 'o', 'v', 'e', 'r', ' ', 't', 'h', 'e', ' ', 'm', 'e', 'n', 'u', ' ', 'a', 'n', 'd', ' ', 'e', 'n', 'd', 'e', 'd', ' ', 'u', 'p', ' ', 'o', 'r', 'd', 'e', 'r', 'i', 'n', 'g', ' ', 'a', ' ', 'b', 'a', 'k', 'e', 'd', ' ', 'a', 's', 'p', 'a', 'r', 'a', 'g', 'u', 's', ' ', 'a', 'p', 'p', 'e', 't', 'i', 'z', 'e', 'r', ' ', 'a', 's', ' ', 'w', 'e', 'l', 'l', '.', ' ', 'i', 't', ' ', 'w', 'a', 's', ' ', 't', 'a', 's', 't', 'y', ' ', 'a', 'n', 'd', ' ', 'a', ' ', 'n', 'i', 'c', 'e', ' ', 's', 't', 'a', 'r', 't', 'e', 'r', ' ', 't', 'o', ' ', 't', 'h', 'e', ' ', 'b', 'o', 'w', 'l', 's', ' ', 'o', 'f', ' ', 'c', 'u', 'r', 'r', 'y', ' ', 'h', 'e', 'a', 'd', 'i', 'n', 'g', ' ', 'o', 'u', 'r', ' ', 'w', 'a', 'y', '.', ' ', 'a', 'n', 'd', ' ', 'm', 'a', 'n', ',', ' ', 'w', 'e', 'r', 'e', ' ', 'w', 'e', ' ', 'h', 'a', 'p', 'p', 'y', ' ', 'w', 'h', 'e', 'n', ' ', 't', 'h', 'e', ' ', 'c', 'u', 'r', 'r', 'y', ' ', 'h', 'i', 't', ' ', 't', 'h', 'e', ' ', 't', 'a', 'b', 'l', 'e', '.', ' ', 'i', ' ', 'h', 'a', 'd', ' ', 't', 'h', 'e', ' ', 't', 'o', 'r', 'i', 'k', 'a', 't', 's', 'u', ' ', '(', 'f', 'r', 'i', 'e', 'd', ' ', 'c', 'h', 'i', 'c', 'k', 'e', 'n', ' ', 'c', 'u', 't', 'l', 'e', 't', ')', ' ', 'w', 'i', 't', 'h', ' ', 'i', 't', ',', ' ', 'a', 'n', 'd', ' ', 'a', 't', ' ', 'f', 'i', 'r', 's', 't', ' ', 'i', ' ', 't', 'h', 'o', 'u', 'g', 'h', ' ', 't', 'h', 'e', ' ', 'c', 'h', 'i', 'c', 'k', 'e', 'n', ' ', 'a', 'l', 'o', 'n', 'e', ' ', 'w', 'a', 's', ' ', 'a', ' ', 'l', 'i', 't', 't', 'l', 'e', ' ', 'b', 'l', 'a', 'n', 'd', ' ', 'a', 'n', 'd', ' ', 'n', 'e', 'e', 'd', 'e', 'd', ' ', 'm', 'o', 'r', 'e', ' ', 's', 'a', 'l', 't', ',', ' ', 'b', 'u', 't', ' ', 't', 'h', 'e', 'n', ' ', 'i', ' ', 'h', 'a', 'd', ' ', 'i', 't', ' ', 'w', 'i', 't', 'h', ' ', 't', 'h', 'e', ' ', 'c', 'u', 'r', 'r', 'y', ' ', 's', 'a', 'u', 'c', 'e', ',', ' ', 'i', 't', ' ', 'w', 'a', 's', ' ', 'p', 'e', 'r', 'f', 'e', 'c', 't', '.', ' ', 'a', 'n', 'd', ' ', 'm', 'a', 'n', ',', ' ', 't', 'h', 'a', 't', ' ', 'c', 'u', 'r', 'r', 'y', ' ', 's', 'a', 'u', 'c', 'e', '.', ' ', 'u', 'n', 'b', 'e', 'l', 'i', 'e', 'v', 'a', 'b', 'l', 'e', ',', ' ', 'w', 'i', 't', 'h', ' ', 't', 'h', 'e', ' ', 'f', 'l', 'a', 'v', 'o', 'r', 's', ' ', 'o', 'f', ' ', 't', 'h', 'e', ' ', 'v', 'e', 'g', 'e', 't', 'a', 'b', 'l', 'e', 's', ' ', 'c', 'o', 'm', 'i', 'n', 'g', ' ', 't', 'h', 'r', 'o', 'u', 'g', 'h', ' ', 'b', 'e', 'a', 'u', 't', 'i', 'f', 'u', 'l', 'l', 'y', ',', ' ', 'b', 'u', 't', ' ', 'a', 'l', 'l', ' ', 'i', 'n', ' ', 'p', 'e', 'r', 'f', 'e', 'c', 't', ' ', 'b', 'a', 'l', 'a', 'n', 'c', 'e', '.', ' ', 'c', 'u', 'r', 'r', 'y', ' ', 'c', 'a', 'r', 'v', 'i', 'n', 'g', ':', ' ', 'b', 'l', 'o', 'w', 'n', ' ', 'a', 'w', 'a', 'y', '.', ' ', 'a', 's', ' ', 'f', 'a', 'r', ' ', 'a', 's', ' ', 't', 'h', 'e', ' ', 'r', 'e', 's', 't', 'a', 'u', 'r', 'a', 'n', 't', ',', ' ', 'i', 't', 's', ' ', 'a', ' ', 'n', 'i', 'c', 'e', ' ', 'm', 'o', 'd', 'e', 'r', 'n', ' ', 'l', 'o', 'o', 'k', 'i', 'n', 'g', ' ', 'p', 'l', 'a', 'c', 'e', ',', ' ', 'w', 'i', 't', 'h', ' ', 'a', ' ', 'f', 'e', 'w', ' ', 'w', 'e', 'l', 'l', '-', 'c', 'h', 'o', 's', 'e', 'n', ' ', 'j', 'a', 'p', 'a', 'n', 'e', 's', 'e', ' ', 'd', 'e', 'c', 'o', 'r', 'a', 't', 'i', 'o', 'n', 's', '.', ' ', 'c', 'l', 'e', 'a', 'n', ' ', 'a', 'n', 'd', ' ', 'u', 'n', 'c', 'l', 'u', 't', 't', 'e', 'r', 'e', 'd', '.', ' ', 'r', 'e', 'l', 'a', 'x', 'i', 'n', 'g', ',', ' ', 'b', 'u', 't', ' ', 'n', 'o', 't', ' ', 'f', 'a', 'n', 'c', 'y', '.', ' ', 't', 'h', 'e', 'r', 'e', ' ', 'w', 'e', 'r', 'e', ' ', 'o', 'n', 'l', 'y', ' ', 'a', ' ', 'f', 'e', 'w', ' ', 't', 'h', 'i', 'n', 'g', 's', ' ', 't', 'h', 'a', 't', ' ', 'k', 'e', 'p', 't', ' ', 't', 'h', 'i', 's', ' ', 'f', 'r', 'o', 'm', ' ', 'f', 'e', 'e', 'l', 'i', 'n', 'g', ' ', 'l', 'i', 'k', 'e', ' ', 'y', 'o', 'u', ' ', 'w', 'e', 'r', 'e', ' ', 's', 'i', 't', 't', 'i', 'n', 'g', ' ', 'i', 'n', ' ', 'a', ' ', 'r', 'e', 's', 't', 'a', 'u', 'r', 'a', 'n', 't', ' ', 'i', 'n', ' ', 'j', 'a', 'p', 'a', 'n', ':', ' ', 'n', 'o', ' ', 'd', 'o', 'o', 'r', 'b', 'e', 'l', 'l', ' ', 'b', 'u', 't', 't', 'o', 'n', 's', ' ', 'o', 'n', ' ', 't', 'h', 'e', ' ', 't', 'a', 'b', 'l', 'e', ' ', '-', ' ', 'b', 'u', 't', ' ', 'i', 't', ' ', 'i', 's', ' ', 'a', 'n', ' ', 'a', 'm', 'e', 'r', 'i', 'c', 'a', 'n', ' ', 'r', 'e', 's', 't', 'a', 'u', 'r', 'a', 'n', 't', ',', ' ', 'a', 'f', 't', 'e', 'r', ' ', 'a', 'l', 'l', ',', ' ', 'a', 'n', 'd', ' ', 't', 'h', 'e', ' ', 'w', 'a', 'i', 't', ' ', 's', 't', 'a', 'f', 'f', ' ', 'w', 'e', 'r', 'e', ' ', 'a', 'l', 'l', ' ', 'v', 'e', 'r', 'y', ' ', 'a', 't', 't', 'e', 'n', 't', 'i', 'v', 'e', ' ', 's', 'o', ' ', 'n', 'o', ' ', 'n', 'e', 'e', 'd', ' ', 'f', 'o', 'r', ' ', 't', 'h', 'e', ' ', 'b', 'e', 'l', 'l', 's', ';', ' ', 'a', 'n', 'd', ' ', 't', 'h', 'e', ' ', 'c', 'o', 'n', 't', 'e', 'm', 'p', 'o', 'r', 'a', 'r', 'y', ' ', 'p', 'o', 'p', ' ', 'o', 'n', ' ', 't', 'h', 'e', ' ', 'r', 'a', 'd', 'i', 'o', '.', ' ', 'a', 'n', 'd', ' ', 't', 'h', 'e', ' ', 'w', 'h', 'o', 'l', 'e', ' ', '\"', 'e', 'v', 'e', 'r', 'y', 'o', 'n', 'e', ' ', 's', 'p', 'e', 'a', 'k', 'i', 'n', 'g', ' ', 'e', 'n', 'g', 'l', 'i', 's', 'h', '\"', ' ', 'b', 'i', 't', ' ', ';', ')', 'o', 'v', 'e', 'r', 'a', 'l', 'l', ',', ' ', 'r', 'e', 'a', 'l', 'l', 'y', ' ', 'e', 'x', 'c', 'i', 't', 'e', 'd', ' ', 't', 'o', ' ', 'h', 'a', 'v', 'e', ' ', 'a', ' ', 'g', 'r', 'e', 'a', 't', ' ', 'c', 'u', 'r', 'r', 'y', ' ', 'p', 'l', 'a', 'c', 'e', ' ', 'c', 'l', 'o', 's', 'e', ' ', 'b', 'y', ',', ' ', 'i', ' ', 'c', 'a', 'n', 't', ' ', 'w', 'a', 'i', 't', ' ', 't', 'o', ' ', 'c', 'o', 'm', 'e', ' ', 'b', 'a', 'c', 'k', ' ', 'a', 'n', 'd', ' ', 't', 'r', 'y', ' ', 's', 'o', 'm', 'e', ' ', 'o', 'f', ' ', 't', 'h', 'e', ' ', 's', 'u', 's', 'h', 'i', '!', '<EOR>']\n",
      "\n",
      "['<SOR>', 'h', 'o', 'l', 'y', ' ', 'm', 'o', 'l', 'y', ' ', 'g', 'u', 'a', 'c', 'a', 'm', 'o', 'l', 'e', '!', '!', 'i', ' ', 'l', 'o', 'v', 'e', ' ', 'h', 'o', 't', ' ', 'f', 'o', 'o', 'd', ',', ' ', 'a', 'n', 'd', ' ', 'b', 'e', 'i', 'n', 'g', ' ', 'i', 'n', 'd', 'o', 'o', 'r', 's', '!', '!', ' ', ' ', 't', 'h', 'i', 's', ' ', 'p', 'l', 'a', 'c', 'e', ' ', 'h', 'a', 's', ' ', 't', 'h', 'e', 'm', ' ', 'b', 'o', 't', 'h', '!', '!', ' ', ' ', 'c', 'h', 'i', 'n', 'a', ' ', 'd', 'e', ' ', 'm', 'e', 'x', 'i', 'c', 'o', ' ', '(', 'a', 's', ' ', 'i', 't', 's', ' ', 'k', 'n', 'o', 'w', 'n', ' ', 't', 'o', ' ', 'm', 'e', ' ', 'a', 'n', 'd', ' ', 'm', 'y', ' ', 'f', 'r', 'i', 'e', 'n', 'd', 's', ')', ' ', 'i', 's', ' ', 'h', 'i', 'p', ',', ' ', 'i', 's', ' ', 'h', 'o', 'p', ',', ' ', 'i', 's', ' ', 'w', 'h', 'a', 't', 's', ' ', 'h', 'a', 'p', 'p', 'e', 'n', 'i', 'n', 'g', '!', '!', ' ', ' ', 'n', 'o', 'w', ' ', 'i', 'v', 'e', ' ', 'n', 'e', 'v', 'e', 'r', ' ', 'e', 'a', 't', 'e', 'n', ' ', 't', 'h', 'e', 'r', 'e', ',', ' ', 'n', 'o', 'r', ' ', 'h', 'a', 'v', 'e', ' ', 'i', ' ', 'b', 'e', 'e', 'n', ',', ' ', 'i', 'm', ' ', 'o', 'n', ' ', 'a', ' ', 'f', 'i', 'x', 'e', 'd', ' ', 'i', 'n', 'c', 'o', 'm', 'e', ' ', 'a', 'n', 'd', ' ', 'l', 'i', 'v', 'e', ' ', 'v', 'e', 'r', 'y', ' ', 'f', 'a', 'r', ' ', 'a', 'w', 'a', 'y', '.', ' ', ' ', 'b', 'u', 't', ' ', 'i', ' ', 'k', 'n', 'o', 'w', ' ', 'w', 'h', 'a', 't', ' ', 'i', ' ', 'l', 'i', 'k', 'e', ' ', 'a', 'n', 'd', ' ', 'i', ' ', 'l', 'i', 'k', 'e', ' ', 'c', 'h', 'i', 'n', 'a', ' ', 'p', 'o', 'b', 'l', 'a', 'n', 'o', '.', ' ', ' ', 'b', 'u', 't', ' ', 'i', 'f', ' ', 'w', 'a', 's', ' ', 'a', 'b', 'l', 'e', ' ', 't', 'o', ' ', 'e', 'a', 't', ' ', 't', 'h', 'e', 'r', 'e', ' ', 'i', ' ', 't', 'h', 'i', 'n', 'k', ' ', 'i', 't', ' ', 'w', 'o', 'u', 'l', 'd', ' ', 'g', 'o', ' ', 'a', ' ', 'l', 'i', 't', 't', 'l', 'e', ' ', 's', 'o', 'm', 'e', 't', 'h', 'i', 'n', 'g', ' ', 'l', 'i', 'k', 'e', ' ', 't', 'h', 'i', 's', ':', ' ', ' ', '\"', 'h', 'e', 'l', 'l', 'o', ' ', 'w', 'a', 'i', 't', 'e', 'r', ',', ' ', 'm', 'a', 'y', ' ', 'i', ' ', 'c', 'o', 'm', 'e', ' ', 'i', 'n', 'd', 'o', 'o', 'r', ' ', 'a', 'n', 'd', ' ', 'o', 'r', 'd', 'e', 'r', ' ', 'h', 'o', 't', ' ', 'f', 'o', 'o', 'd', '?', '\"', ' ', ' ', '\"', 'c', 'e', ' ', 's', 'e', 'n', 'o', 'r', ',', ' ', 'w', 'o', 'u', 'l', 'd', ' ', 'y', 'o', 'u', ' ', 'l', 'i', 'k', 'e', ' ', 't', 'h', 'e', ' ', 'c', 'h', 'o', 'p', ' ', 's', 't', 'i', 'c', 'k', 's', '?', '\"', ' ', ' ', '\"', 'y', 'e', 's', ',', ' ', 'm', 'y', ' ', 'n', 'e', 'w', ' ', 'b', 'e', 's', 't', ' ', 'f', 'r', 'i', 'e', 'n', 'd', ',', ' ', 'i', ' ', 'w', 'o', 'u', 'l', 'd', '.', '\"', ' ', ' ', 'a', 'n', 'd', ' ', 's', 'o', ' ', 'o', 'n', '.', '<EOR>']\n",
      "\n",
      "['<SOR>', 'a', 'f', 't', 'e', 'r', ' ', 'h', 'i', 'k', 'i', 'n', 'g', ',', ' ', 's', 'o', 'm', 'e', ' ', 'o', 'f', ' ', 'o', 'u', 'r', ' ', 'g', 'r', 'o', 'u', 'p', ' ', 'd', 'e', 'c', 'i', 'd', 'e', 'd', ' ', 't', 'o', ' ', 'm', 'e', 'e', 't', ' ', 'u', 'p', ' ', 'w', 'i', 't', 'h', ' ', 'o', 't', 'h', 'e', 'r', ' ', 'y', 'e', 'l', 'p', 'e', 'r', 's', ' ', 'w', 'h', 'o', ' ', 'w', 'e', 'r', 'e', ' ', 'h', 'a', 'v', 'i', 'n', 'g', ' ', 'l', 'u', 'n', 'c', 'h', ' ', 'a', 't', ' ', 'i', '-', 'n', 'a', 'b', 'a', '.', ' ', ' ', 'w', 'h', 'a', 't', ' ', 'a', ' ', 'g', 'r', 'e', 'a', 't', ' ', 'p', 'l', 'a', 'c', 'e', '!', ' ', ' ', 'i', ' ', 'a', 's', 'k', 'e', 'd', ' ', 'a', ' ', 'f', 'r', 'i', 'e', 'n', 'd', ' ', 'w', 'h', 'a', 't', ' ', 'h', 'e', \"'\", 'd', ' ', 'r', 'e', 'c', 'o', 'm', 'm', 'e', 'n', 'd', ' ', 'a', 'n', 'd', ' ', 'h', 'e', ' ', 'p', 'o', 'i', 'n', 't', 'e', 'd', ' ', 'm', 'e', ' ', 't', 'o', ' ', 's', 'o', 'm', 'e', 't', 'h', 'i', 'n', 'g', ' ', 'h', 'e', ' ', 'h', 'a', 'd', ' ', 'o', 'n', ' ', 'h', 'i', 's', ' ', 'f', 'i', 'r', 's', 't', ' ', 'v', 'i', 's', 'i', 't', ' ', '-', ' ', 'b', 'a', 't', 't', 'e', 'r', 'a', ' ', 'w', 'h', 'i', 'c', 'h', ' ', 'i', 's', ' ', '4', ' ', 'p', 'i', 'e', 'c', 'e', 's', ' ', 'o', 'f', ' ', 'm', 'a', 'c', 'k', 'e', 'r', 'e', 'l', ' ', 's', 'e', 'r', 'v', 'e', 'd', ' ', 'o', 'n', ' ', 's', 'u', 's', 'h', 'i', ' ', 'r', 'i', 'c', 'e', ' ', 'a', 'n', 'd', ' ', 'a', ' ', 'b', 'o', 'w', 'l', ' ', 'o', 'f', ' ', 'u', 'd', 'o', 'n', ' ', 'o', 'r', ' ', 's', 'o', 'b', 'a', ' ', 's', 'e', 'r', 'v', 'e', 'd', ' ', 'h', 'o', 't', ' ', 'o', 'r', ' ', 'c', 'o', 'l', 'd', '.', ' ', ' ', 'i', 't', \"'\", 's', ' ', 'a', 'l', 's', 'o', ' ', 's', 'e', 'r', 'v', 'e', 'd', ' ', 'w', 'i', 't', 'h', ' ', 'y', 'o', 'u', 'r', ' ', 'c', 'h', 'o', 'i', 'c', 'e', ' ', 'o', 'f', ' ', 'n', 'o', 'o', 'd', 'l', 'e', 's', ' ', 'i', 'n', ' ', 't', 'h', 'e', ' ', 'b', 'r', 'o', 't', 'h', ' ', 'o', 'r', ' ', 'o', 'n', ' ', 't', 'h', 'e', ' ', 's', 'i', 'd', 'e', '.', ' ', ' ', 'i', ' ', 'g', 'o', 't', ' ', 't', 'h', 'e', ' ', 'c', 'o', 'l', 'd', ' ', 'u', 'd', 'o', 'n', ' ', 'n', 'o', 'o', 'd', 'l', 'e', 's', ' ', 'i', 'n', ' ', 'b', 'r', 'o', 't', 'h', '.', ' ', ' ', 'e', 'v', 'e', 'r', 'y', 't', 'h', 'i', 'n', 'g', ' ', 'w', 'a', 's', ' ', 'f', 'a', 'n', 't', 'a', 's', 't', 'i', 'c', '.', ' ', ' ', 'i', ' ', 'r', 'e', 'a', 'l', 'l', 'y', ' ', 'l', 'i', 'k', 'e', 'd', ' ', 't', 'h', 'e', ' ', 'b', 'a', 'r', 'l', 'e', 'y', ' ', 'i', 'c', 'e', 'd', ' ', 't', 'e', 'a', ' ', 't', 'h', 'e', 'y', ' ', 's', 'e', 'r', 'v', 'e', 'd', ' ', 'a', 'n', 'd', ' ', 'i', ' ', 'm', 'u', 's', 't', ' ', 'h', 'a', 'v', 'e', ' ', 'f', 'i', 'n', 'i', 's', 'h', 'e', 'd', ' ', 'o', 'n', 'e', ' ', 'o', 'f', ' ', 't', 'h', 'e', 'i', 'r', ' ', 'p', 'i', 't', 'c', 'h', 'e', 'r', 's', ' ', 'm', 'y', 's', 'e', 'l', 'f', '.', 'i', ' ', 'h', 'a', 'v', 'e', ' ', 't', 'o', ' ', 'm', 'e', 'n', 't', 'i', 'o', 'n', ' ', 't', 'h', 'e', ' ', 's', 'e', 'r', 'v', 'i', 'c', 'e', '.', ' ', ' ', 't', 'h', 'e', ' ', 'y', 'o', 'u', 'n', 'g', ' ', 'w', 'o', 'm', 'e', 'n', ' ', 'w', 'e', 'r', 'e', ' ', 'v', 'e', 'r', 'y', ' ', 'h', 'e', 'l', 'p', 'f', 'u', 'l', ' ', 'a', 'n', 'd', ' ', 'p', 'o', 'l', 'i', 't', 'e', '.', ' ', ' ', 't', 'h', 'e', 'y', ' ', 'w', 'e', 'r', 'e', ' ', 'a', 'l', 's', 'o', ' ', 's', 'o', ' ', 'g', 'o', 'o', 'd', ' ', 't', 'o', ' ', 'p', 'u', 't', ' ', 'o', 'u', 'r', ' ', 'c', 'u', 'p', 'c', 'a', 'k', 'e', 's', ' ', 'i', 'n', ' ', 't', 'h', 'e', 'i', 'r', ' ', 'c', 'o', 'o', 'l', 'e', 'r', ' ', 's', 'o', ' ', 't', 'h', 'e', 'y', ' ', 'd', 'i', 'd', 'n', \"'\", 't', ' ', 'm', 'e', 'l', 't', ' ', 'i', 'n', ' ', 't', 'h', 'e', ' ', '1', '0', '0', '+', ' ', 'd', 'e', 'g', 'r', 'e', 'e', ' ', 'h', 'e', 'a', 't', ' ', 'o', 'u', 't', 's', 'i', 'd', 'e', '.', ' ', ' ', 't', 'h', 'e', ' ', 'm', 'u', 's', 'i', 'c', ' ', 'p', 'l', 'a', 'y', 'i', 'n', 'g', ' ', 'w', 'a', 's', ' ', 's', 'u', 'r', 'p', 'r', 'i', 's', 'i', 'n', 'g', 'l', 'y', ' ', 'w', 'e', 's', 't', 'e', 'r', 'n', ' ', '(', 's', 'o', 'm', 'e', ' ', 'b', 'e', 'a', 't', 'l', 'e', 's', ' ', 't', 'u', 'n', 'e', 's', ')', ' ', 'b', 'u', 't', ' ', 'v', 'e', 'r', 'y', ' ', 'e', 'n', 'j', 'o', 'y', 'a', 'b', 'l', 'e', '.', ' ', ' ', 't', 'h', 'e', ' ', 'c', 'o', 'm', 'p', 'a', 'n', 'y', ' ', 'o', 'f', ' ', '6', ' ', 'o', 't', 'h', 'e', 'r', ' ', 'y', 'e', 'l', 'p', 'e', 'r', 's', ' ', 'm', 'a', 'd', 'e', ' ', 't', 'h', 'i', 's', ' ', 'l', 'u', 'n', 'c', 'h', ' ', 'a', ' ', 's', 'p', 'e', 'c', 'i', 'a', 'l', ' ', 'a', 'f', 't', 'e', 'r', ' ', 'h', 'i', 'k', 'e', ' ', 't', 'r', 'e', 'a', 't', '!', ' ', ' ', 'i', \"'\", 'l', 'l', ' ', 'b', 'e', ' ', 'b', 'a', 'c', 'k', ' ', 'f', 'o', 'r', ' ', 't', 'h', 'e', ' ', 's', 'o', 'b', 'a', ' ', 'n', 'e', 'x', 't', ' ', 't', 'i', 'm', 'e', '.', ' ', ' ', 'n', 'o', 't', 'h', 'i', 'n', 'g', ' ', 'l', 'i', 'k', 'e', ' ', 'c', 'o', 'l', 'd', ' ', 'n', 'o', 'o', 'd', 'l', 'e', 's', ' ', 'd', 'u', 'r', 'i', 'n', 'g', ' ', 'o', 'u', 'r', ' ', 'w', 'a', 'r', 'm', ' ', 'd', 'e', 's', 's', 'e', 'r', 't', ' ', 'm', 'o', 'n', 't', 'h', 's', '.', '<EOR>']\n",
      "\n",
      "['<SOR>', 'n', 'e', 'v', 'e', 'r', ' ', 'i', 'n', ' ', 'm', 'y', ' ', 'l', 'i', 'f', 'e', ' ', 'h', 'a', 'v', 'e', ' ', 'i', ' ', 'p', 'o', 'l', 'i', 's', 'h', 'e', 'd', ' ', 'c', 'l', 'e', 'a', 'n', ' ', 'a', 'n', ' ', 'e', 'n', 't', 'i', 'r', 'e', ' ', 'b', 'r', 'e', 'a', 'k', 'f', 'a', 's', 't', ' ', 'o', 'f', ' ', 's', 't', 'e', 'a', 'k', ',', ' ', 'e', 'g', 'g', 's', ',', ' ', '4', ' ', 'p', 'i', 'e', 'c', 'e', 's', ' ', 'o', 'f', ' ', 't', 'o', 'a', 's', 't', ',', ' ', 'a', 'n', 'd', ' ', 'h', 'a', 's', 'h', ' ', 'b', 'r', 'o', 'w', 'n', 's', '!', ' ', ' ', 't', 'h', 'e', ' ', 'f', 'o', 'o', 'd', ' ', 'h', 'e', 'r', 'e', ' ', 'i', 's', ' ', 'a', 'b', 's', 'o', 'l', 'u', 't', 'e', 'l', 'y', ' ', 'd', 'e', 'l', 'i', 'c', 'i', 'o', 'u', 's', '.', ' ', ' ', 't', 'h', 'e', ' ', 's', 'e', 'r', 'v', 'i', 'c', 'e', ' ', 'i', 's', ' ', 'e', 'x', 't', 'r', 'e', 'm', 'e', 'l', 'y', ' ', 'f', 'r', 'i', 'e', 'n', 'd', 'l', 'y', '.', ' ', ' ', 'o', 'u', 'r', ' ', 'c', 'o', 'f', 'f', 'e', 'e', ' ', 'w', 'a', 's', ' ', 'l', 'u', 'k', 'e', 'w', 'a', 'r', 'm', ' ', 'a', 'n', 'd', ' ', 't', 'h', 'e', 'y', ' ', 'i', 'm', 'm', 'e', 'd', 'i', 'a', 't', 'e', 'l', 'y', ' ', 'b', 'r', 'o', 'u', 'g', 'h', 't', ' ', 'o', 'u', 't', ' ', 'a', ' ', 'f', 'r', 'e', 's', 'h', ' ', 'p', 'o', 't', ' ', 'a', 'n', 'd', ' ', 'c', 'o', 'n', 't', 'i', 'n', 'u', 'e', 'd', ' ', 't', 'o', ' ', 'a', 'p', 'o', 'l', 'o', 'g', 'i', 'z', 'e', ' ', 'w', 'h', 'e', 'n', ' ', 'i', ' ', 'd', 'i', 'd', 'n', \"'\", 't', ' ', 't', 'h', 'i', 'n', 'k', ' ', 'i', 't', ' ', 'w', 'a', 's', ' ', 'a', ' ', 'b', 'i', 'g', ' ', 'd', 'e', 'a', 'l', '.', ' ', ' ', 'n', 'o', ' ', 'c', 'h', 'a', 'r', 'g', 'e', ' ', 'f', 'o', 'r', ' ', 's', 'u', 'b', 's', 't', 'i', 't', 'u', 't', 'i', 'n', 'g', ' ', 'h', 'a', 's', 'h', ' ', 'b', 'r', 'o', 'w', 'n', ' ', 'p', 'a', 't', 't', 'i', 'e', 's', ' ', 'f', 'o', 'r', ' ', 'p', 'o', 't', 'a', 't', 'o', 'e', 's', '.', ' ', ' ', 'p', 'e', 'r', 'f', 'e', 'c', 't', 'l', 'y', ' ', 'c', 'o', 'o', 'k', 'e', 'd', ' ', 's', 'u', 'n', 'n', 'y', ' ', 's', 'i', 'd', 'e', ' ', 'u', 'p', ' ', 'e', 'g', 'g', 's', '.', ' ', ' ', 'd', 'e', 'l', 'i', 'c', 'i', 'o', 'u', 's', ',', ' ', 'b', 'u', 't', 't', 'e', 'r', 'y', ' ', 't', 'o', 'a', 's', 't', '.', ' ', ' ', 'i', ' ', 'h', 'a', 'v', 'e', ' ', 'n', 'o', ' ', 'c', 'o', 'm', 'p', 'l', 'a', 'i', 'n', 't', 's', ' ', 'a', 'b', 'o', 'u', 't', ' ', 't', 'h', 'i', 's', ' ', 'p', 'l', 'a', 'c', 'e', '!', ' ', ' ', 'i', 't', \"'\", 's', ' ', 'j', 'u', 's', 't', ' ', 'a', 'w', 'e', 's', 'o', 'm', 'e', '!', '<EOR>']\n",
      "\n",
      "['<SOR>', 'h', 'a', 'd', ' ', 't', 'h', 'e', ' ', 'b', 'e', 's', 't', ' ', 'e', 'x', 'p', 'e', 'r', 'i', 'e', 'n', 'c', 'e', ' ', 'e', 'v', 'e', 'r', ' ', 't', 'h', 'e', ' ', 's', 'e', 'r', 'v', 'e', 'r', ' ', 'n', 'a', 'm', 'e', ' ', 'w', 'a', 's', ' ', 'n', 'i', 'c', 'o', 'l', 'e', ' ', 's', 'h', 'e', ' ', 'w', 'a', 's', ' ', 's', 'o', ' ', 'e', 'n', 'e', 'r', 'g', 'e', 't', 'i', 'c', ' ', 'a', 'n', 'd', ' ', 's', 'p', 'a', 'r', 'k', 'l', 'y', ' ', 's', 'h', 'e', ' ', 'c', 'a', 'm', 'e', ' ', 'b', 'y', ' ', 'a', 'n', 'd', ' ', 'm', 'a', 'd', 'e', ' ', 's', 'u', 'r', 'e', ' ', 't', 'h', 'a', 't', ' ', 'a', 'r', 'e', ' ', 'w', 'e', ' ', 'w', 'e', 'r', 'e', ' ', 'e', 'n', 'j', 'o', 'y', 'i', 'n', 'g', ' ', 'o', 'u', 'r', ' ', 'm', 'e', 'a', 'l', ' ', 'a', 'n', 'd', ' ', 't', 'h', 'a', 't', ' ', 'w', 'e', ' ', 'h', 'a', 'd', ' ', 'e', 'v', 'e', 'r', 'y', 't', 'h', 'i', 'n', 'g', ' ', 'w', 'e', ' ', 'n', 'e', 'e', 'd', 'e', 'd', ' ', 's', 'h', 'e', ' ', 'w', 'a', 's', ' ', 'v', 'e', 'r', 'y', ' ', 'h', 'e', 'l', 'p', 'f', 'u', 'l', ' ', 'w', 'e', ' ', 'w', 'e', 'r', 'e', ' ', 'a', 's', 'k', 'i', 'n', 'g', ' ', 'h', 'e', 'r', ' ', 'q', 'u', 'e', 's', 't', 'i', 'o', 'n', 's', ' ', 'a', 'b', 'o', 'u', 't', ' ', 'p', 'l', 'a', 'c', 'e', 's', ' ', 't', 'o', ' ', 'g', 'o', ' ', 'b', 'y', ' ', 'w', 'e', ' ', 'w', 'e', 'r', 'e', ' ', 'v', 'i', 's', 'i', 't', 'i', 'n', 'g', ' ', 'l', 'a', 's', ' ', 'v', 'e', 'g', 'a', 's', ' ', 'a', 'n', 'd', ' ', 's', 'h', 'e', ' ', 'w', 'a', 's', ' ', 'j', 'u', 's', 't', ' ', 'a', 'l', 'l', ' ', 'a', 'r', 'o', 'u', 'n', 'd', ' ', 'h', 'e', 'l', 'p', 'f', 'u', 'l', ' ', 'a', 'n', 'd', ' ', 'e', 'n', 'j', 'o', 'y', 'a', 'b', 'l', 'e', ' ', 'a', 'n', 'd', ' ', 't', 'h', 'e', ' ', 'm', 'e', 'a', 'l', ' ', 'w', 'a', 's', ' ', 'w', 'o', 'n', 'd', 'e', 'r', 'f', 'u', 'l', ' ', 'w', 'e', ' ', 'g', 'i', 'v', 'e', ' ', 'y', 'o', 'u', 'r', ' ', 'r', 'e', 's', 't', 'a', 'u', 'r', 'a', 'n', 't', ' ', 'a', 'n', 'd', ' ', 't', 'h', 'e', ' ', 's', 'e', 'r', 'v', 'e', 'r', ' ', 'a', 'n', 'd', ' ', 'n', 'i', 'c', 'o', 'l', 'e', ' ', 'k', 'e', 'n', 's', ' ', 'k', 'a', 'r', 's', ' ', 'i', 'f', ' ', 'w', 'e', ' ', 'c', 'o', 'u', 'l', 'd', ' ', 't', 'h', 'a', 'n', 'k', ' ', 'y', 'o', 'u', ' ', 'b', 'u', 'f', 'f', 'a', 'l', 'o', ' ', 'w', 'i', 'l', 'd', ' ', 'w', 'i', 'n', 'g', 's', ' ', 'a', 'n', 'd', ' ', 't', 'h', 'a', 'n', 'k', ' ', 'y', 'o', 'u', ' ', 't', 'o', ' ', 't', 'h', 'e', ' ', 's', 'e', 'r', 'v', 'e', 'r', ' ', 'n', 'i', 'c', 'o', 'l', 'e', '<EOR>']\n",
      "\n",
      "['<SOR>', 't', 'h', 'i', 's', ' ', 'i', 's', ' ', 'a', ' ', '5', ' ', 's', 't', 'a', 'r', 's', ' ', 'd', 'e', 'a', 'l', 'e', 'r', 's', 'h', 'i', 'p', '.', ' ', 't', 'h', 'e', 'y', ' ', 's', 't', 'r', 'u', 'g', 'g', 'l', 'e', ' ', 'a', ' ', 'l', 'i', 't', 't', 'l', 'e', ' ', 'b', 'i', 't', ' ', 'd', 'u', 'r', 'i', 'n', 'g', ' ', 't', 'h', 'e', 'i', 'r', ' ', 'r', 'e', 'n', 'o', 'v', 'a', 't', 'i', 'o', 'n', ' ', 'a', 'n', 'd', ' ', 'e', 'x', 'p', 'a', 'n', 's', 'i', 'o', 'n', ' ', 't', 'o', ' ', 'a', ' ', 'h', 'u', 'g', 'e', ' ', 's', 'e', 'r', 'v', 'i', 'c', 'e', ' ', 'f', 'a', 'c', 'i', 'l', 'i', 't', 'y', ',', ' ', ' ', 'b', 'u', 't', ' ', 't', 'h', 'e', ' ', 'c', 'u', 's', 't', 'o', 'm', 'e', 'r', ' ', 's', 'e', 'r', 'v', 'i', 'c', 'e', ' ', 'h', 'a', 's', ' ', 'n', 'e', 'v', 'e', 'r', ' ', 'b', 'e', 'e', 'n', ' ', 'c', 'o', 'm', 'p', 'r', 'o', 'm', 'i', 's', 'e', 'd', ',', ' ', 'i', 't', ' ', 'h', 'a', 's', ' ', 'a', 'l', 'w', 'a', 'y', 's', ' ', 'b', 'e', 'e', 'n', ' ', 'a', 'm', 'a', 'z', 'i', 'n', 'g', '.', ' ', 'y', 'o', 'u', ' ', 'c', 'a', 'n', ' ', 't', 'e', 'l', 'l', ' ', 't', 'h', 'e', 'y', ' ', 'c', 'a', 'r', 'e', ' ', 'a', 'b', 'o', 'u', 't', ' ', 'e', 'a', 'c', 'h', ' ', 'c', 'u', 's', 't', 'o', 'm', 'e', 'r', ' ', 'l', 'i', 'k', 'e', ' ', 't', 'h', 'e', 'r', 'e', ' ', 'w', 'a', 's', ' ', 'n', 'o', ' ', 't', 'o', 'm', 'o', 'r', 'r', 'o', 'w', '.', 'a', 'l', 'b', 'e', 'r', 't', ' ', 'm', 'y', ' ', 's', 'e', 'r', 'v', 'i', 'c', 'e', ' ', 'a', 'd', 'v', 'i', 's', 'o', 'r', ',', ' ', 'h', 'e', ' ', 'a', 'l', 'w', 'a', 'y', 's', ' ', 'g', 'o', 'e', 's', ' ', 't', 'h', 'e', ' ', 'e', 'x', 't', 'r', 'a', ' ', 'm', 'i', 'l', 'e', ' ', 'f', 'o', 'r', ' ', 'm', 'e', ',', ' ', 'h', 'e', ' ', 'i', 's', ' ', 's', 'u', 'p', 'e', 'r', ' ', 'f', 'r', 'i', 'e', 'n', 'd', 'l', 'y', ',', ' ', 'e', 'f', 'f', 'i', 'c', 'i', 'e', 'n', 't', ',', ' ', 'a', 'n', 'd', ' ', 'h', 'o', 'n', 'e', 's', 't', ' ', 'i', 'n', ' ', 'a', 'd', 'd', 'i', 't', 'i', 'o', 'n', ' ', ' ', 't', 'h', 'e', ' ', 'm', 'a', 'n', 'a', 'g', 'e', 'm', 'e', 'n', 't', ' ', 't', 'e', 'a', 'm', ' ', 'i', 's', ' ', 'e', 'x', 't', 'r', 'e', 'm', 'e', 'l', 'y', ' ', ' ', 'p', 'r', 'o', 'f', 'e', 's', 's', 'i', 'o', 'n', 'a', 'l', ' ', ' ', 'a', 'n', 'd', ' ', 'o', 'n', ' ', 'p', 'o', 'i', 'n', 't', ' ', 'w', 'i', 't', 'h', ' ', 'e', 'v', 'e', 'r', 'y', 't', 'h', 'i', 'n', 'g', ' ', 'a', 's', ' ', 'w', 'e', 'l', 'l', '.', 'i', ' ', 'w', 'o', 'u', 'l', 'd', 'n', \"'\", 't', ' ', 'g', 'o', ' ', 'a', 'n', 'y', 'w', 'h', 'e', 'r', 'e', ' ', 'e', 'l', 's', 'e', '.', ' ', 's', 'u', 'p', 'e', 'r', ' ', 'q', 'u', 'i', 'c', 'k', ' ', 'a', 'n', 'd', ' ', 't', 'o', 'p', ' ', 'q', 'u', 'a', 'l', 'i', 't', 'y', '!', ' ', 'a', 's', ' ', 'a', ' ', 'y', 'e', 'l', 'p', ' ', 's', 'e', 'n', 'i', 'o', 'r', ' ', 'r', 'e', 'v', 'i', 'e', 'w', 'e', 'r', ' ', 'g', 'i', 'v', 'e', ' ', 'i', 't', ' ', 'a', ' ', 't', 'r', 'y', ' ', 'a', 'n', 'd', ' ', 'd', 'o', 'n', \"'\", 't', ' ', 'g', 'o', ' ', 'a', 'n', 'y', 'w', 'h', 'e', 'r', 'e', ' ', 'e', 'l', 's', 'e', '.', '<EOR>']\n",
      "\n",
      "['<SOR>', 't', 'h', 'e', ' ', 'b', 'e', 'a', 't', ' ', 'b', 'o', 'o', 't', 'h', ' ', 'a', 'r', 'e', ' ', 'a', ' ', 'h', 'u', 's', 'b', 'a', 'n', 'd', ' ', 'a', 'n', 'd', ' ', 'w', 'i', 'f', 'e', ' ', 't', 'e', 'a', 'm', '.', ' ', 'n', 'a', 't', 'e', ' ', 'a', 'n', 'd', ' ', 'h', 'i', 's', ' ', 'w', 'i', 'f', 'e', ' ', 'e', 'r', 'i', 'c', 'a', ' ', 'r', 'e', 'a', 'l', 'l', 'y', ' ', 'm', 'a', 'd', 'e', ' ', 'o', 'u', 'r', ' ', 'p', 'a', 'r', 't', 'y', '.', ' ', 'w', 'e', ' ', 'h', 'a', 'd', ' ', 'p', 'l', 'a', 'n', 'n', 'e', 'd', ' ', 'o', 'n', ' ', 'a', ' ', 'l', 'i', 'v', 'e', ' ', 'm', 'u', 's', 'i', 'c', 'i', 'a', 'n', ' ', 'a', 't', ' ', 'f', 'i', 'r', 's', 't', ',', ' ', 'b', 'u', 't', ' ', 't', 'h', 'e', 'n', ' ', 'd', 'e', 'c', 'i', 'd', 'e', 'd', ' ', 't', 'o', ' ', 'g', 'o', ' ', 'w', 'i', 't', 'h', ' ', 'a', ' ', 'd', 'j', '.', ' ', 'w', 'e', ' ', 'a', 'r', 'e', ' ', 's', 'o', ' ', 'g', 'l', 'a', 'd', ' ', 'w', 'e', ' ', 'p', 'i', 'c', 'k', 'e', 'd', ' ', 't', 'h', 'e', 'm', '!', ' ', 'n', 'a', 't', 'e', ' ', 'p', 'l', 'a', 'y', 'e', 'd', ' ', 'a', 't', ' ', 't', 'h', 'e', ' ', 'c', 'e', 'r', 'e', 'm', 'o', 'n', 'y', ' ', 't', 'h', 'e', ' ', 's', 'o', 'n', 'g', 's', ' ', 'w', 'e', ' ', 'r', 'e', 'q', 'u', 'e', 's', 't', 'e', 'd', ',', ' ', 'a', 'n', 'd', ' ', 'f', 'a', 'd', 'e', 'd', ' ', 't', 'h', 'e', 'm', ' ', 'o', 'u', 't', ' ', 's', 'e', 'a', 'm', 'l', 'e', 's', 's', 'l', 'y', '.', ' ', 'd', 'u', 'r', 'i', 'n', 'g', ' ', 'c', 'o', 'c', 'k', 't', 'a', 'i', 'l', ' ', 'h', 'o', 'u', 'r', ' ', 'a', 'n', 'd', ' ', 'd', 'i', 'n', 'n', 'e', 'r', ',', ' ', 't', 'h', 'e', ' ', 's', 'o', 'n', 'g', 's', ' ', 'p', 'l', 'a', 'y', 'e', 'd', ' ', 'w', 'e', 'r', 'e', ' ', 'v', 'e', 'r', 'y', ' ', 'n', 'i', 'c', 'e', '.', ' ', 's', 'w', 'a', 'n', 'k', 'y', ' ', 'l', 'o', 'u', 'n', 'g', 'e', ' ', 't', 'y', 'p', 'e', ' ', 'm', 'u', 's', 'i', 'c', '.', ' ', 'w', 'h', 'e', 'n', ' ', 't', 'h', 'e', ' ', 'p', 'a', 'r', 't', 'y', ' ', 'g', 'o', 't', ' ', 's', 't', 'a', 'r', 't', 'e', 'd', ',', ' ', 'h', 'e', ' ', 'w', 'a', 's', ' ', 'v', 'e', 'r', 'y', ' ', 'i', 'n', ' ', 't', 'u', 'n', 'e', ' ', 'w', 'i', 't', 'h', ' ', 't', 'h', 'e', ' ', 'm', 'o', 'o', 'd', ' ', 'o', 'f', ' ', 't', 'h', 'e', ' ', 'g', 'u', 'e', 's', 't', 's', ' ', 'a', 'n', 'd', ' ', 'k', 'e', 'p', 't', ' ', 'a', 'l', 'l', ' ', 'o', 'u', 'r', ' ', 'g', 'u', 'e', 's', 't', 's', ' ', 'e', 'n', 't', 'e', 'r', 't', 'a', 'i', 'n', 'e', 'd', ' ', 'a', 'n', 'd', ' ', 'h', 'a', 'p', 'p', 'y', ' ', 'w', 'i', 't', 'h', 'o', 'u', 't', ' ', 'r', 'e', 's', 'o', 'r', 't', 'i', 'n', 'g', ' ', 't', 'o', ' ', 'c', 'o', 'r', 'n', 'y', ' ', 'g', 'a', 'm', 'e', 's', '.', ' ', 't', 'h', 'e', ' ', 'u', 'p', 'l', 'i', 'g', 'h', 't', 'i', 'n', 'g', ' ', 'w', 'a', 's', ' ', 'd', 'o', 'n', 'e', ' ', 'i', 'n', ' ', 'o', 'u', 'r', ' ', 'w', 'e', 'd', 'd', 'i', 'n', 'g', ' ', 'c', 'o', 'l', 'o', 'r', 's', ' ', 'a', 'n', 'd', ' ', 'r', 'e', 'a', 'l', 'l', 'y', ' ', 'a', 'd', 'd', 'e', 'd', ' ', 's', 'o', 'm', 'e', 't', 'h', 'i', 'n', 'g', ' ', 's', 'p', 'e', 'c', 'i', 'a', 'l', ' ', 't', 'o', ' ', 'o', 'u', 'r', ' ', 'o', 'u', 't', 'd', 'o', 'o', 'r', ' ', 't', 'e', 'n', 't', '.', ' ', 't', 'h', 'e', ' ', 'b', 'e', 'a', 't', ' ', 'b', 'o', 'o', 't', 'h', ' ', 'a', 'l', 's', 'o', ' ', 'b', 'r', 'i', 'n', 'g', 's', ' ', 'i', 'n', ' ', 'a', ' ', 'f', 'l', 'a', 't', ' ', 's', 'c', 'r', 'e', 'e', 'n', ' ', 't', 'v', ' ', 'i', 'f', ' ', 'y', 'o', 'u', ' ', 'w', 'i', 's', 'h', ' ', 't', 'h', 'a', 't', ' ', 'p', 'l', 'a', 'y', 's', ' ', 'm', 'u', 's', 'i', 'c', ' ', 'v', 'i', 'd', 'e', 'o', 's', ' ', 'o', 'n', ' ', 'i', 't', ' ', 'f', 'r', 'o', 'm', ' ', 't', 'h', 'e', ' ', 's', 'o', 'n', 'g', 's', ' ', '(', 'e', 'v', 'e', 'n', ' ', 'i', 'f', ' ', 't', 'h', 'e', 'y', \"'\", 'r', 'e', ' ', 's', 'u', 'p', 'e', 'r', ' ', 'o', 'l', 'd', 'i', 'e', 's', ')', ' ', 'a', 'n', 'd', ' ', 'i', 's', ' ', 'i', 'n', 't', 'e', 'r', 'a', 'c', 't', 'i', 'v', 'e', ' ', 'w', 'i', 't', 'h', ' ', 't', 'h', 'e', ' ', 'm', 'u', 's', 'i', 'c', '.', ' ', 'i', 't', ' ', 'm', 'a', 'k', 'e', 's', ' ', 'i', 't', ' ', 'r', 'e', 'a', 'l', 'l', 'y', ' ', 'f', 'u', 'n', '.', ' ', 'h', 'e', ' ', 'p', 'l', 'a', 'y', 'e', 'd', ' ', 'a', ' ', 'g', 'o', 'o', 'd', ' ', 'm', 'i', 'x', ' ', 'o', 'f', ' ', 'm', 'u', 's', 'i', 'c', ' ', 'f', 'o', 'r', ' ', 'e', 'v', 'e', 'r', 'y', ' ', 'a', 'g', 'e', ' ', 'r', 'a', 'n', 'g', 'e', ' ', 't', 'h', 'e', 'r', 'e', ',', ' ', 'a', 'n', 'd', ' ', 'm', 'a', 'd', 'e', ' ', 's', 'u', 'r', 'e', ' ', 'n', 'o', ' ', 's', 'o', 'n', 'g', 's', ' ', 'o', 'n', ' ', 'o', 'u', 'r', ' ', 'd', 'o', ' ', 'n', 'o', 't', ' ', 'p', 'l', 'a', 'y', ' ', 'l', 'i', 's', 't', ' ', 'g', 'o', 't', ' ', 'p', 'l', 'a', 'y', 'e', 'd', '.', ' ', 'o', 'v', 'e', 'r', 'a', 'l', 'l', ',', ' ', 's', 'u', 'p', 'e', 'r', ' ', 'h', 'a', 'p', 'p', 'y', '!', '<EOR>']\n",
      "\n",
      "['<SOR>', 'i', ' ', 'h', 'a', 'd', ' ', 't', 'h', 'e', ' ', 'b', 'e', 's', 't', ' ', 't', 'i', 'm', 'e', ' ', 'h', 'e', 'r', 'e', '.', ' ', ' ', 'i', ' ', 'w', 'a', 's', ' ', 's', 'u', 'p', 'e', 'r', ' ', 'd', 'r', 'u', 'n', 'k', ' ', 'w', 'h', 'e', 'n', ' ', 'i', ' ', 's', 'h', 'o', 'w', 'e', 'd', ' ', 'u', 'p', ' ', 'b', 'u', 't', ' ', 'i', ' ', 'c', 'o', 'u', 'l', 'd', ' ', 's', 't', 'i', 'l', 'l', ' ', 'r', 'e', 'm', 'e', 'm', 'b', 'e', 'r', ' ', 'm', 'o', 's', 't', ' ', 'o', 'f', ' ', 't', 'h', 'e', ' ', 'n', 'i', 'g', 'h', 't', '.', ' ', ' ', 'i', ' ', 'w', 'e', 'n', 't', ' ', 't', 'o', ' ', 't', 'a', 'o', ' ', 't', 'h', 'e', ' ', 'n', 'i', 'g', 'h', 't', ' ', 'b', 'e', 'f', 'o', 'r', 'e', ' ', 'a', 'n', 'd', ' ', 'c', 'o', 'm', 'p', 'a', 'r', 'e', 'd', ' ', 't', 'o', ' ', 't', 'h', 'a', 't', ',', ' ', 'r', 'a', 'i', 'n', ' ', 'm', 'a', 'k', 'e', 's', ' ', 't', 'a', 'o', ' ', 's', 'e', 'e', 'm', ' ', 'e', 'v', 'e', 'n', ' ', 's', 'h', 'i', 't', 't', 'i', 'e', 'r', ' ', 't', 'h', 'a', 'n', ' ', 'i', 't', ' ', 'a', 'l', 'r', 'e', 'a', 'd', 'y', ' ', 'w', 'a', 's', '.', ' ', 'l', 'o', 'l', ' ', 'a', 'n', 'y', ' ', 'w', 'a', 'y', 's', '.', ' ', 'b', 'a', 'r', ' ', 't', 'e', 'n', 'd', 'e', 'r', 's', ' ', 's', 'u', 'p', 'e', 'r', ' ', 'n', 'i', 'c', 'e', ',', ' ', 's', 'o', 'u', 'n', 'd', ' ', 's', 'y', 's', 't', 'e', 'm', ' ', 'w', 'a', 's', ' ', 'b', 'o', 'm', 'b', '.', ' ', ' ', 'b', 'o', 'u', 'n', 'c', 'e', 'r', 's', ' ', 'w', 'e', 'r', 'e', ' ', 's', 'u', 'p', 'e', 'r', ' ', 'n', 'i', 'c', 'e', '.', ' ', ' ', 'i', ' ', 'w', 'a', 's', ' ', 's', 'o', ' ', 'd', 'r', 'u', 'n', 'k', ' ', 'a', 't', ' ', 'o', 'n', 'e', ' ', 'p', 'o', 'i', 'n', 't', ' ', 'w', 'h', 'e', 'r', 'e', ' ', 'i', ' ', 't', 'h', 'i', 'n', 'k', ' ', 'i', ' ', 'f', 'e', 'l', 'l', ' ', 'r', 'i', 'g', 'h', 't', ' ', 'i', 'n', ' ', 'f', 'r', 'o', 'n', 't', ' ', 'o', 'f', ' ', 't', 'h', 'e', ' ', 'b', 'o', 'u', 'n', 'c', 'e', 'r', ' ', 'a', 'n', 'd', ' ', 'h', 'e', ' ', 'w', 'a', 's', ' ', 's', 'o', ' ', 'n', 'i', 'c', 'e', ' ', 'a', 'b', 'o', 'u', 't', ' ', 'i', 't', '.', ' ', ' ', 'h', 'e', ' ', 'h', 'e', 'l', 'p', 'e', 'd', ' ', 'm', 'e', ' ', 'u', 'p', ' ', 'a', 'n', 'd', ' ', 'j', 'u', 's', 't', ' ', 't', 'o', 'l', 'd', ' ', 'm', 'e', ' ', 't', 'o', ' ', 'b', 'e', ' ', 'm', 'o', 'r', 'e', ' ', 'c', 'a', 'r', 'e', 'f', 'u', 'l', ' ', 'a', 'n', 'd', ' ', 'd', 'i', 'd', 'n', 't', ' ', 'e', 'v', 'e', 'n', ' ', 't', 'r', 'y', ' ', 't', 'o', ' ', 'k', 'i', 'c', 'k', ' ', 'm', 'e', ' ', 'o', 'u', 't', '.', ' ', ' ', 'm', 'y', ' ', 'f', 'r', 'i', 'e', 'n', 'd', ' ', 's', 't', 'r', 'a', 'i', 'g', 'h', 't', ' ', 'u', 'p', ' ', 'p', 'a', 's', 's', 'e', 'd', ' ', 'o', 'u', 't', ' ', 'a', 't', ' ', 't', 'h', 'e', ' ', 'b', 'a', 'r', ' ', 'f', 'o', 'r', ' ', 'a', ' ', 's', 'e', 'c', 'o', 'n', 'd', ' ', 'r', 'i', 'g', 'h', 't', ' ', 'i', 'n', ' ', 'f', 'r', 'o', 'n', 't', ' ', 'o', 'f', ' ', 't', 'h', 'e', ' ', 'b', 'o', 'u', 'n', 'c', 'e', 'r', ' ', 'a', 'n', 'd', ' ', 'h', 'e', 'r', ' ', 'j', 'u', 's', 't', ' ', 'l', 'o', 'o', 'k', 'e', 'd', ' ', 'a', 't', ' ', 'h', 'i', 'm', ',', ' ', 'w', 'a', 'n', 't', 'e', 'd', ' ', 't', 'o', ' ', 'k', 'i', 'c', 'k', ' ', 'h', 'i', 'm', ' ', 'o', 'u', 't', ' ', 'b', 'u', 't', ' ', 'w', 'e', ' ', 't', 'a', 'l', 'k', 'e', 'd', ' ', 't', 'o', ' ', 'h', 'i', 'm', ' ', 'a', 'n', 'd', ' ', 'h', 'e', ' ', 'e', 'n', 'd', 'e', 'd', ' ', 'u', 'p', ' ', 's', 'a', 'y', 'i', 'n', 'g', ' ', '\"', 'g', 'i', 'v', 'e', ' ', 'h', 'i', 'm', ' ', 's', 'o', 'm', 'e', ' ', 'h', '2', 'o', ' ', 'a', 'n', 'd', ' ', 'h', 'e', ' ', 'c', 'a', 'n', ' ', 's', 't', 'a', 'y', '\"', '.', ' ', ' ', 's', 'u', 'p', 'e', 'r', 'b', ' ', 't', 'r', 'e', 'a', 't', 'm', 'e', 'n', 't', ' ', 'a', 'n', 'd', ' ', 'f', 'r', 'i', 'e', 'n', 'd', 'l', 'i', 'n', 'e', 's', 's', '.', ' ', ' ', 'i', ' ', 'd', 'o', 'n', 't', ' ', 't', 'h', 'i', 'n', 'k', ' ', 'i', 'v', 'e', ' ', 'e', 'v', 'e', 'r', ' ', 'h', 'a', 'd', ' ', 's', 'u', 'c', 'h', ' ', 'a', ' ', 'g', 'o', 'o', 'd', ' ', 't', 'i', 'm', 'e', ' ', 'a', 't', ' ', 't', 'h', 'e', ' ', 'c', 'l', 'u', 'b', '.', ' ', 't', 'h', 'e', ' ', 's', 'c', 'e', 'n', 'e', ' ', 'w', 'a', 's', ' ', 'c', 'o', 'o', 'l', '.', ' ', ' ', 'i', ' ', 'l', 'o', 'v', 'e', 'd', ' ', 't', 'h', 'e', ' ', 'd', 'e', 'c', 'o', 'r', ' ', 'a', 'n', 'd', ' ', 't', 'h', 'e', ' ', 'p', 'e', 'r', 'f', 'o', 'r', 'm', 'e', 'r', 's', '.', ' ', ' ', 't', 'h', 'e', 'r', 'e', ' ', 'w', 'a', 's', ' ', 'a', ' ', 'g', 'u', 'y', ' ', 'o', 'n', ' ', 's', 't', 'i', 'l', 't', 's', ' ', 'h', 'a', 'n', 'd', 'i', 'n', 'g', ' ', 'o', 'u', 't', ' ', 'g', 'l', 'o', 'w', ' ', 's', 't', 'i', 'c', 'k', 's', '.', ' ', 'a', ' ', 'g', 'i', 'r', 'l', ' ', 'w', 'i', 't', 'h', ' ', 'm', 'e', 't', 'a', 'l', ' ', 'u', 'n', 'd', 'e', 'r', 'w', 'e', 'a', 'r', ' ', 'o', 'n', ' ', 'a', 'n', 'd', ' ', 'a', ' ', 'c', 'h', 'a', 'i', 'n', 's', 'a', 'w', ' ', 'c', 'r', 'e', 'a', 't', 'i', 'n', 'g', ' ', 's', 'p', 'a', 'r', 'k', 's', ' ', 'a', 'n', 'd', ' ', 'a', 'l', 'l', ' ', 't', 'h', 'e', ' ', 'c', 'r', 'a', 'z', 'y', ' ', 'l', 'o', 'o', 'k', 'i', 'n', 'g', ' ', 'a', 'n', 'i', 'm', 'a', 'l', 's', '.', ' ', ' ', 'i', ' ', 'l', 'o', 'v', 'e', 'd', ' ', 'i', 't', ' ', 'a', 'l', 'l', '.', 't', 'h', 'e', ' ', 'm', 'u', 's', 'i', 'c', ' ', 't', 'h', 'a', 't', ' ', 'n', 'i', 'g', 'h', 't', ' ', 'w', 'a', 's', ' ', 'a', 'm', 'a', 'z', 'i', 'n', 'g', '.', ' ', ' ', 'i', 'm', ' ', 'a', ' ', 'h', 'o', 'u', 's', 'e', '/', 't', 'e', 'c', 'h', 'n', 'o', ' ', 'l', 'o', 'v', 'e', 'r', ' ', 's', 'o', ' ', 't', 'h', 'i', 's', ' ', 'm', 'a', 'y', ' ', 'n', 'o', 't', ' ', 'a', 'p', 'p', 'l', 'y', ' ', 't', 'o', ' ', 'a', 'l', 'l', '.', ' ', ' ', 'i', ' ', 'h', 'a', 'd', ' ', 's', 'o', ' ', 'm', 'u', 'c', 'h', ' ', 'f', 'u', 'n', ' ', 't', 'h', 'a', 't', ' ', 'i', ' ', 'c', 'o', 'u', 'l', 'd', 'n', 't', ' ', 'e', 'v', 'e', 'n', ' ', 'w', 'a', 'l', 'k', ' ', 'a', 'n', 'y', 'm', 'o', 'r', 'e', ' ', 'b', 'u', 't', ' ', 'i', ' ', 'r', 'e', 'f', 'u', 's', 'e', 'd', ' ', 't', 'o', ' ', 'l', 'e', 'a', 'v', 'e', ' ', 'b', 'e', 'c', 'a', 'u', 's', 'e', ' ', 'r', 'a', 'i', 'n', ' ', 'w', 'a', 's', ' ', 'd', 'e', 'f', 'i', 'n', 'i', 't', 'e', 'l', 'y', ' ', 'w', 'o', 'r', 't', 'h', ' ', 't', 'h', 'e', ' ', 'p', 'a', 'i', 'n', '.', 'a', 'l', 'l', ' ', 't', 'h', 'e', ' ', 'g', 'u', 'y', 's', ' ', 'i', ' ', 'w', 'e', 'n', 't', ' ', 'w', 'i', 't', 'h', ' ', 'h', 'a', 'd', ' ', 't', 'o', ' ', 'p', 'a', 'y', ' ', '$', '2', '5', ' ', 'e', 'a', 'c', 'h', '.', '.', '.', '.', 'w', 'h', 'i', 'c', 'h', ' ', 'w', 'a', 's', ' ', 't', 'h', 'e', ' ', 'o', 'n', 'l', 'y', ' ', '\"', 's', 't', 'e', 'e', 'p', 'n', 'e', 's', 's', '\"', ' ', 'b', 'u', 't', ' ', 'e', 'v', 'e', 'r', 'y', 'o', 'n', 'e', ' ', 'h', 'a', 'd', ' ', 'f', 'u', 'n', ' ', 'a', 'n', 'd', ' ', 't', 'h', 'e', 'y', ' ', 'a', 'l', 'l', ' ', 't', 'h', 'o', 'u', 'g', 'h', 't', ' ', 'i', 't', ' ', 'w', 'a', 's', ' ', 'w', 'o', 'r', 't', 'h', ' ', 'i', 't', ' ', 'a', 'n', 'd', ' ', 'w', 'a', 'y', ' ', 'b', 'e', 't', 't', 'e', 'r', ' ', 't', 'h', 'a', 'n', ' ', 't', 'a', 'o', '.', '<EOR>']\n",
      "\n",
      "['<SOR>', 'o', 'k', 'a', 'y', ',', ' ', 'y', 'e', 's', ' ', '-', ' ', 't', 'h', 'i', 's', ' ', 'i', 's', ' ', 'a', ' ', 'c', 'h', 'a', 'i', 'n', '.', ' ', 'b', 'u', 't', ',', ' ', 'y', 'o', 'u', ' ', 'g', 'u', 'y', 's', '.', '.', '.', 'i', 't', \"'\", 's', ' ', 'l', 'i', 'k', 'e', ' ', 'g', 'o', 'i', 'n', 'g', ' ', 't', 'o', ' ', 's', 't', 'a', 'r', 'b', 'u', 'c', 'k', 's', ' ', 'a', 'n', 'd', ' ', 'k', 'n', 'o', 'w', 'i', 'n', 'g', ' ', 't', 'h', 'a', 't', ' ', 'y', 'o', 'u', 'r', ' ', 'p', 'u', 'm', 'p', 'k', 'i', 'n', ' ', 's', 'p', 'i', 'c', 'e', ' ', 'l', 'a', 't', 't', 'e', ' ', 'i', 's', ' ', 'g', 'o', 'i', 'n', 'g', ' ', 't', 'o', ' ', 'b', 'e', ' ', 'e', 'x', 'a', 'c', 't', 'l', 'y', ' ', 't', 'h', 'e', ' ', 's', 'a', 'm', 'e', ' ', 'e', 'v', 'e', 'r', 'y', ' ', 't', 'i', 'm', 'e', ' ', 'y', 'o', 'u', ' ', 'g', 'o', '.', ' ', 'y', 'a', 'r', 'd', 'h', 'o', 'u', 's', 'e', ' ', 'i', 's', ' ', 'g', 'r', 'e', 'a', 't', ' ', 'c', 'o', 'n', 's', 'i', 's', 't', 'e', 'n', 'c', 'y', '.', ' ', ' ', 't', 'h', 'e', 'i', 'r', ' ', 'f', 'o', 'o', 'd', ' ', 'i', 's', ' ', 's', 'o', 'l', 'i', 'd', ' ', 'a', 'n', 'd', ' ', 't', 'h', 'e', 'i', 'r', ' ', 's', 'e', 'l', 'e', 'c', 't', 'i', 'o', 'n', ' ', 'o', 'f', ' ', 'b', 'e', 'e', 'r', 's', ' ', 'i', 's', ' ', 'm', 'a', 's', 's', 'i', 'v', 'e', '.', ' ', ' ', 'i', \"'\", 'v', 'e', ' ', 'b', 'e', 'e', 'n', ' ', 't', 'o', ' ', 't', 'h', 'i', 's', ' ', 'l', 'o', 'c', 'a', 't', 'i', 'o', 'n', ' ', 's', 'e', 'v', 'e', 'r', 'a', 'l', ' ', 't', 'i', 'm', 'e', 's', ' ', 'a', 'n', 'd', ' ', 'i', 't', \"'\", 's', ' ', 'm', 'u', 'c', 'h', ' ', 'b', 'e', 't', 't', 'e', 'r', ' ', 't', 'h', 'a', 'n', ' ', 't', 'h', 'e', ' ', 'o', 'n', 'e', ' ', 'i', 'n', ' ', 't', 'h', 'e', ' ', 'l', 'i', 'n', 'q', '.', ' ', ' ', 'i', 't', \"'\", 's', ' ', 'a', ' ', 'g', 'o', 'o', 'd', ' ', 'v', 'i', 'b', 'e', ' ', 'a', 'n', 'd', ' ', 'n', 'o', 't', ' ', 'r', 'i', 'd', 'i', 'c', 'u', 'l', 'o', 'u', 's', 'l', 'y', ' ', 'o', 'v', 'e', 'r', 'p', 'r', 'i', 'c', 'e', 'd', '.', ' ', ' ', 'l', 'a', 's', 't', ' ', 't', 'i', 'm', 'e', ' ', 'i', ' ', 'w', 'e', 'n', 't', ',', ' ', 'i', ' ', 'h', 'a', 'd', ' ', 't', 'h', 'e', ' ', 'c', 'o', 'b', 'b', ' ', 's', 'a', 'l', 'a', 'd', ' ', '(', 'b', 'a', 's', 'i', 'c', ',', ' ', 'm', 'u', 'c', 'h', ' ', 'l', 'i', 'k', 'e', ' ', 't', 'h', 'e', ' ', 'p', 'u', 'm', 'p', 'k', 'i', 'n', ' ', 's', 'p', 'i', 'c', 'e', ' ', 'r', 'e', 'f', 'e', 'r', 'e', 'n', 'c', 'e', ',', ' ', 'i', ' ', 'k', 'n', 'o', 'w', ')', ' ', 'a', 'n', 'd', ' ', 'i', 't', ' ', 'w', 'a', 's', ' ', 'g', 'r', 'e', 'a', 't', ' ', '-', ' ', 'i', 't', ' ', 'h', 'a', 'd', ' ', 'a', ' ', 'c', 'o', 'u', 'p', 'l', 'e', ' ', 't', 'h', 'i', 'n', 'g', 's', ' ', '(', 'l', 'i', 'k', 'e', ' ', 'e', 'd', 'a', 'm', 'a', 'm', 'e', ')', ' ', 't', 'h', 'a', 't', ' ', 't', 'o', 'o', 'k', ' ', 'i', 't', ' ', 'u', 'p', ' ', 'a', ' ', 'n', 'o', 't', 'c', 'h', ' ', 'a', 's', ' ', 'w', 'e', 'l', 'l', '.', ' ', ' ', 't', 'h', 'i', 'n', 'g', 's', ' ', 't', 'h', 'a', 't', ' ', 'a', 'r', 'e', ' ', 'g', 'r', 'e', 'a', 't', ' ', 'h', 'e', 'r', 'e', ':', ' ', 's', 'w', 'e', 'e', 't', ' ', 'p', 'o', 't', 'a', 't', 'o', ' ', 'f', 'r', 'i', 'e', 's', ',', ' ', 'b', 'a', 's', 'i', 'c', 'a', 'l', 'l', 'y', ' ', 'a', 'l', 'l', ' ', 't', 'h', 'e', ' ', 'a', 'p', 'p', 'i', 'e', 's', ',', ' ', 'a', 'n', 'd', ' ', 'o', 'f', ' ', 'c', 'o', 'u', 'r', 's', 'e', ' ', '-', ' ', 't', 'h', 'e', ' ', 'b', 'e', 'e', 'r', '.', ' ', ' ', 'i', 'f', ' ', 'y', 'o', 'u', \"'\", 'r', 'e', ' ', 'l', 'o', 'o', 'k', 'i', 'n', 'g', ' ', 'f', 'o', 'r', ' ', 'a', ' ', 'g', 'r', 'e', 'a', 't', ' ', 's', 'p', 'o', 'r', 't', 's', ' ', 'b', 'a', 'r', ' ', 'o', 'r', ' ', 'a', ' ', 'n', 'i', 'c', 'e', ' ', 'l', 'u', 'n', 'c', 'h', ' ', 's', 'p', 'o', 't', ',', ' ', 'y', 'a', 'r', 'd', 'h', 'o', 'u', 's', 'e', ' ', 'i', 's', ' ', 'l', 'e', 'g', 'i', 't', '.', '<EOR>']\n",
      "\n",
      "['<SOR>', 'a', 'w', 'e', 's', 'o', 'm', 'e', ' ', 'p', 'l', 'a', 'c', 'e', '!', ' ', 'g', 'r', 'e', 'a', 't', ' ', 'f', 'o', 'o', 'd', ' ', 'v', 'e', 'r', 'y', ' ', 'n', 'e', 'w', ' ', 'a', 'n', 'd', ' ', 'i', 'n', 't', 'e', 'r', 'e', 's', 't', 'i', 'n', 'g', ' ', 'f', 'l', 'a', 'v', 'o', 'u', 'r', 's', '.', ' ', 'p', 'o', 'r', 't', 'i', 'o', 'n', 's', ' ', 'a', 'r', 'e', 'n', \"'\", 't', ' ', 't', 'o', ' ', 'b', 'i', 'g', ' ', 'a', 'n', 'd', ' ', 'n', 'o', 't', ' ', 't', 'o', ' ', 's', 'm', 'a', 'l', 'l', ' ', 's', 'o', ' ', 'y', 'o', 'u', ' ', 'c', 'a', 'n', ' ', 'e', 'a', 's', 'i', 'l', 'y', ' ', 'h', 'a', 'v', 'e', ' ', 'd', 'e', 's', 'e', 'r', 't', '.', ' ', 't', 'h', 'e', ' ', 'n', 'o', 'd', 'i', 'n', 'i', ' ', '(', 'b', 'r', 'e', 'a', 'd', ' ', 'k', 'n', 'o', 't', 's', ')', ' ', 'a', 'r', 'e', ' ', 'f', 'a', 'n', 't', 'a', 's', 't', 'i', 'c', '.', ' ', 't', 'h', 'e', ' ', 'w', 'i', 'n', 'e', ' ', 'l', 'i', 's', 't', ' ', 'i', 's', ' ', 'e', 'x', 't', 'e', 'n', 's', 'i', 'v', 'e', ' ', 'b', 'u', 't', ' ', 'g', 'r', 'e', 'a', 't', ' ', 'v', 'a', 'r', 'i', 'e', 't', 'y', '.', ' ', 't', 'h', 'e', ' ', 'o', 'p', 'e', 'n', ' ', 'k', 'i', 't', 'c', 'h', 'e', 'n', ' ', 'c', 'o', 'n', 'c', 'e', 'p', 't', ' ', 'i', 's', ' ', 'a', 'w', 'e', 's', 'o', 'm', 'e', ' ', 'o', 'n', ' ', 'a', ' ', 'b', 'u', 's', 'y', ' ', 'n', 'i', 'g', 'h', 't', ' ', 's', 'e', 'e', 'i', 'n', 'g', ' ', 't', 'h', 'e', ' ', 'c', 'o', 'o', 'k', 's', ' ', 'a', 'n', 'd', ' ', 'c', 'h', 'e', 'f', 's', ' ', 'w', 'o', 'r', 'k', ' ', 'i', 's', ' ', 's', 'o', 'm', 'e', 't', 'h', 'i', 'n', 'g', ' ', 'i', 'm', 'p', 'r', 'e', 's', 's', 'i', 'v', 'e', '.', ' ', 'i', \"'\", 'v', 'e', ' ', 'g', 'o', 'n', 'e', ' ', 't', 'o', ' ', 'b', 'u', 'c', 'a', ' ', 't', 'w', 'i', 'c', 'e', ' ', 'a', 'n', 'd', ' ', 'w', 'i', 'l', 'l', ' ', 'b', 'e', ' ', 'r', 'e', 't', 'u', 'r', 'n', 'i', 'n', 'g', ' ', 'n', 'e', 'x', 't', ' ', 't', 'i', 'm', 'e', ' ', 'i', \"'\", 'm', ' ', 'i', 'n', ' ', 't', 'o', 'r', 'o', 'n', 't', 'o', ' ', 'f', 'o', 'r', ' ', 's', 'u', 'r', 'e', '.', '<EOR>']\n",
      "\n"
     ]
    }
   ],
   "source": [
    "with open(\"attack_train_data.csv\", 'r') as csvfile:\n",
    "    counter = 0\n",
    "    reader = csv.reader(csvfile, delimiter=',')\n",
    "    for row in reader:\n",
    "        print(row)\n",
    "        print()\n",
    "        if counter > 10:\n",
    "            break\n",
    "        counter += 1\n",
    "    new_training_review_list = [item for sublist in reader for item in sublist]"
   ]
  },
  {
   "cell_type": "code",
   "execution_count": 42,
   "metadata": {},
   "outputs": [
    {
     "data": {
      "text/plain": [
       "['(',\n",
       " 'a',\n",
       " 'r',\n",
       " 'o',\n",
       " 'u',\n",
       " 'n',\n",
       " 'd',\n",
       " ' ',\n",
       " '2',\n",
       " ' ',\n",
       " 'h',\n",
       " 'o',\n",
       " 'u',\n",
       " 'r',\n",
       " 's',\n",
       " ')',\n",
       " ' ',\n",
       " 'd',\n",
       " 'u',\n",
       " 'r',\n",
       " 'i',\n",
       " 'n',\n",
       " 'g',\n",
       " ' ',\n",
       " 'd',\n",
       " 'i',\n",
       " 'n',\n",
       " 'n',\n",
       " 'e',\n",
       " 'r',\n",
       " ' ',\n",
       " 't',\n",
       " 'i',\n",
       " 'm',\n",
       " 'e',\n",
       " ',',\n",
       " ' ',\n",
       " 'b',\n",
       " 'u',\n",
       " 't',\n",
       " ' ',\n",
       " 'y',\n",
       " 'o',\n",
       " 'u',\n",
       " ' ',\n",
       " 'c',\n",
       " 'a',\n",
       " 'n',\n",
       " ' ',\n",
       " 'w']"
      ]
     },
     "execution_count": 42,
     "metadata": {},
     "output_type": "execute_result"
    }
   ],
   "source": [
    "new_training_review_list[100:150]"
   ]
  },
  {
   "cell_type": "code",
   "execution_count": null,
   "metadata": {},
   "outputs": [],
   "source": [
    "words_to_ids, ids_to_words = make_vocabulary(train_review_list, test_review_list)\n",
    "train_ids = convert_to_ids(words_to_ids, train_review_list)\n",
    "test_ids = convert_to_ids(words_to_ids, test_review_list)"
   ]
  },
  {
   "cell_type": "code",
   "execution_count": 10,
   "metadata": {},
   "outputs": [],
   "source": [
    "seen = {}\n",
    "dupes = []\n",
    "\n",
    "for x in generated_reviews:\n",
    "    if x not in seen:\n",
    "        seen[x] = 1\n",
    "    else:\n",
    "        if seen[x] == 1:\n",
    "            dupes.append(x)\n",
    "        seen[x] += 1"
   ]
  },
  {
   "cell_type": "code",
   "execution_count": 11,
   "metadata": {},
   "outputs": [
    {
     "data": {
      "text/plain": [
       "[]"
      ]
     },
     "execution_count": 11,
     "metadata": {},
     "output_type": "execute_result"
    }
   ],
   "source": [
    "dupes"
   ]
  },
  {
   "cell_type": "code",
   "execution_count": 12,
   "metadata": {},
   "outputs": [
    {
     "data": {
      "text/plain": [
       "True"
      ]
     },
     "execution_count": 12,
     "metadata": {},
     "output_type": "execute_result"
    }
   ],
   "source": [
    "\"<EOR>\" in generated_reviews[95]"
   ]
  },
  {
   "cell_type": "code",
   "execution_count": 13,
   "metadata": {},
   "outputs": [
    {
     "data": {
      "text/plain": [
       "43"
      ]
     },
     "execution_count": 13,
     "metadata": {},
     "output_type": "execute_result"
    }
   ],
   "source": [
    "generated_reviews[95].find('<EOR>')"
   ]
  },
  {
   "cell_type": "code",
   "execution_count": 14,
   "metadata": {},
   "outputs": [
    {
     "data": {
      "text/plain": [
       "'<SOR>and all just when i wants to wait!!!!!<EOR>'"
      ]
     },
     "execution_count": 14,
     "metadata": {},
     "output_type": "execute_result"
    }
   ],
   "source": [
    "generated_reviews[95]"
   ]
  },
  {
   "cell_type": "code",
   "execution_count": 15,
   "metadata": {},
   "outputs": [
    {
     "data": {
      "text/plain": [
       "'<SOR>and all just when i wants to wait!!!!!'"
      ]
     },
     "execution_count": 15,
     "metadata": {},
     "output_type": "execute_result"
    }
   ],
   "source": [
    "generated_reviews[95][:43]"
   ]
  },
  {
   "cell_type": "code",
   "execution_count": 26,
   "metadata": {},
   "outputs": [],
   "source": [
    "clipped_review_list = []\n",
    "for review in generated_reviews:\n",
    "    clipped_review = review[5:]\n",
    "    if \"<EOR>\" in clipped_review:\n",
    "        eor_index = clipped_review.find('<EOR>')\n",
    "        clipped_review = clipped_review[:eor_index]\n",
    "    clipped_review_list.append(clipped_review)"
   ]
  },
  {
   "cell_type": "code",
   "execution_count": 28,
   "metadata": {},
   "outputs": [],
   "source": [
    "generated_review_list = []\n",
    "for review in clipped_review_list:\n",
    "    #print(type(review))\n",
    "    char_list = list(review.lower())\n",
    "    semifinal_review = []\n",
    "    last_char = ''\n",
    "    for ascii_char in char_list:\n",
    "        if ascii_char == '\\\\' or last_char == '\\\\':\n",
    "            pass\n",
    "        else:\n",
    "            #isascii = lambda s: len(s) == len(s.encode())\n",
    "            semifinal_review.append(ascii_char)\n",
    "        last_char = ascii_char\n",
    "    #if len(semifinal_review) > 300:\n",
    "    final_review = ['<SOR>'] + semifinal_review + ['<EOR>']\n",
    "        #print(final_review)\n",
    "    generated_review_list.append(final_review)"
   ]
  },
  {
   "cell_type": "code",
   "execution_count": null,
   "metadata": {},
   "outputs": [],
   "source": []
  },
  {
   "cell_type": "code",
   "execution_count": 29,
   "metadata": {},
   "outputs": [
    {
     "name": "stdout",
     "output_type": "stream",
     "text": [
      "number of training characters 2872\n",
      "number of test characters 633\n"
     ]
    }
   ],
   "source": [
    "np.random.shuffle(generated_review_list)\n",
    "generated_training_review_list, generated_test_review_list = split_train_test(generated_review_list, training_samples=20, test_samples=5)"
   ]
  },
  {
   "cell_type": "code",
   "execution_count": 30,
   "metadata": {},
   "outputs": [],
   "source": [
    "with open(\"artificial_train_data.csv\", \"w\") as output:\n",
    "    writer = csv.writer(output, lineterminator='\\n')\n",
    "    writer.writerows(generated_training_review_list)"
   ]
  },
  {
   "cell_type": "code",
   "execution_count": 37,
   "metadata": {},
   "outputs": [
    {
     "name": "stdout",
     "output_type": "stream",
     "text": [
      "['<SOR>', 'w', 'h', 'e', 'n', ' ', 'w', 'e', ' ', 'c', 'a', 'n', \"'\", 't', ' ', 'f', 'i', 'n', 'd', ' ', 'b', 'u', 't', ' ', 'p', 'l', 'a', 'c', 'e', ' ', 'w', 'a', 's', ' ', 'l', 'a', 'r', 'g', 'e', ' ', 'f', 'o', 'r', ' ', 'm', 'y', ' ', 'f', 'a', 'v', 'o', 'r', 'i', 't', 'e', ' ', 'p', 'l', 'a', 'c', 'e', ' ', 'w', 'h', 'e', 'r', 'e', ' ', 'o', 'n', 'e', ' ', 'o', 'f', ' ', 't', 'h', 'o', 's', 'e', ' ', 'd', 'i', 'n', 'n', 'e', 'r', 's', ' ', 'a', 'r', 'e', ' ', 'a', 'l', 's', 'o', ' ', 'g', 'r', 'e', 'a', 't', '.', ' ', 'w', 'e', ' ', 'l', 'i', 'v', 'e', ' ', 'i', 'n', ' ', 't', 'h', 'e', ' ', 'e', 'a', 'r', 'l', 'y', ' ', 'a', 'n', 'd', ' ', 'a', 'l', 'w', 'a', 'y', 's', ' ', 'r', 'e', 't', 'u', 'r', 'n', '!', ' ', 'l', 'e', 'a', 'v', 'e', ' ', '<EOR>']\n",
      "\n",
      "['<SOR>', 'i', 'm', 'm', 'e', 'd', 'i', 'a', 't', 'e', 'l', 'y', ' ', 'w', 'i', 't', 'h', ' ', 't', 'a', 'x', 'a', 'k', 'i', 'n', ' ', 'c', 'h', 'i', 'l', 'i', ' ', 'p', 'e', 'a', 'n', 'u', 't', 's', ',', ' ', 'c', 'h', 'a', 'n', 'g', 'i', 'n', 'g', ',', ' ', 'a', 'n', 'd', ' ', 'c', 'a', 'r', 'i', 'n', 'g', ' ', 't', 'r', 'a', 'i', 'n', 'e', 'r', 's', ' ', 't', 'h', 'e', ' ', 'd', 'i', 's', 'h', '!', ' ', 'i', ' ', 'r', 'e', 'a', 'l', 'l', 'y', ' ', 'e', 'n', 'j', 'o', 'y', ' ', 's', 't', 'a', 'y', 'i', 'n', 'g', ' ', 'i', 'n', ' ', 'p', 'h', 'o', 'e', 'n', 'i', 'x', ' ', 'f', 'o', 'r', ' ', 't', 'h', 'e', 'i', 'r', ' ', 'm', 'a', 'n', 'n', 'e', 'r', ' ', 'h', 'a', 's', ' ', 'f', 'r', 'o', 'm', ' ', 't', 'h', 'e', ' ', 'r', 'e', 'v', 'i', 'e', 'w', '<EOR>']\n",
      "\n",
      "['<SOR>', 't', 'h', 'e', 'y', ' ', 'w', 'e', 'r', 'e', ' ', 'g', 'r', 'e', 'a', 't', ' ', 't', 'h', 'a', 't', ' ', 't', 'i', 'g', 'h', 't', ' ', 'a', ' ', 'c', 'o', 'm', 'm', 'e', 'n', 't', ' ', 'o', 'f', ' ', 'w', 'h', 'i', 't', 'e', ' ', 's', 'i', 'g', 'n', '.', ' ', ' ', 't', 'h', 'e', ' ', 'g', 'o', 't', ' ', 't', 'h', 'e', 'm', ' ', 'l', 'i', 's', 't', 'e', 'd', ' ', 't', 'o', ' ', 'a', ' ', 'c', 'h', 'e', 'a', 'p', ' ', 'o', 'f', ' ', 'g', 'o', 'o', 'd', ' ', 'c', 'o', 'm', 'm', 'e', 'n', 't', 's', ' ', 'i', 'n', 't', 'o', ' ', 'o', 't', 'h', 'e', 'r', ' ', 'r', 'e', 's', 't', 'a', 'u', 'r', 'a', 'n', 't', 's', ' ', 'a', 'l', 'l', ' ', 'l', 'e', 's', 's', ' ', 'c', 'h', 'a', 'n', 'g', 'i', 'n', 'g', ' ', 'w', 'a', 'f', 'f', 'l', 'e', 's', ',', '<EOR>']\n",
      "\n",
      "['<SOR>', 'w', 'a', 's', 'n', \"'\", 't', ' ', 't', 'h', 'i', 's', '.', ' ', 't', 'h', 'a', 'n', 'k', 's', ' ', 's', 'o', ' ', 'm', 'u', 'c', 'h', ' ', 'e', 'a', 'r', 'l', 'y', '!', '<EOR>']\n",
      "\n",
      "['<SOR>', 's', 't', 'a', 'r', 't', ' ', 't', 'o', ' ', 'b', 'u', 'm', 'p', ' ', 'u', 'n', 't', 'i', 'l', ' ', 's', 'h', 'e', ' ', 'k', 'n', 'e', 'w', ' ', 't', 'o', ' ', 'o', 'r', 'd', 'e', 'r', 'i', 'n', 'g', ' ', 'o', 'u', 'r', ' ', 'v', 'e', 'g', 'g', 'i', 'e', 's', 's', 'e', 'r', 't', 'e', 'd', ' ', 'p', 'o', 'w', 'e', 'r', 's', ' ', 'f', 'o', 'r', ' ', 'a', ' ', 'l', 'u', 'n', 'c', 'h', ' ', 'o', 'r', ' ', 't', 'h', 'e', ' ', 'p', 'a', 't', 't', 'y', ' ', 'l', 'a', 'n', 'd', 's', 'c', 'a', 'p', 'e', '!', '!', ' ', 's', 'h', 'e', ' ', 'w', 'a', 's', ' ', 'a', ' ', 't', 'r', 'e', 'a', 't', ',', ' ', 'a', 'n', 'd', ' ', 'i', ' ', 'w', 'i', 'l', 'l', ' ', 'd', 'e', 'f', 'i', 'n', 'i', 't', 'e', 'l', 'y', ' ', 'c', 'o', 'm', 'e', ' ', 'b', 'a', 'c', '<EOR>']\n",
      "\n",
      "['<SOR>', 'b', 'u', 'c', 'k', 's', '!', '!', '!', '!', '!', 'n', 'o', 't', ' ', 'g', 'r', 'e', 'a', 't', ' ', 'w', 'i', 't', 'h', ' ', 'a', ' ', 'r', 'e', 'm', 'e', 'm', 'b', 'e', 'r', ' ', 'o', 'f', ' ', 't', 'h', 'e', ' ', 'a', 'n', 'u', 'm', 'o', 'r', 'i', 't', 'y', ',', ' ', 's', 'o', 'm', 'e', ' ', 'o', 'f', ' ', 't', 'h', 'e', ' ', 's', 'a', 'm', 'e', ' ', 'a', 'c', 'c', 'o', 'm', 'p', 'a', 'n', 'i', 'e', 'd', ' ', 'w', 'a', 'i', 't', 'i', 'n', 'g', ' ', 'o', 'f', ' ', 'm', 'a', 'n', 'y', ' ', 's', 'a', 't', 'u', 'r', 'd', 'a', 'y', 's', ' ', 'a', 's', ' ', 'f', 'o', 'r', ' ', 'm', 'e', '.', ' ', 't', 'h', 'e', 'r', 'e', ' ', 'i', 's', ' ', 'w', 'h', 'a', 't', ' ', 'y', 'o', 'u', ' ', 'l', 'i', 'k', 'e', ' ', 't', 'h', 'i', 's', ' ', 'c', 'h', '<EOR>']\n",
      "\n",
      "['<SOR>', 'b', '/', 'f', 'l', 'o', 'w', 'e', 'r', 's', ' ', 'i', 'n', ' ', 'a', ' ', 'g', 'r', 'e', 'a', 't', ' ', 'p', 'l', 'a', 'c', 'e', '.', ' ', 'w', 'e', ' ', 'l', 'i', 'k', 'e', ' ', 't', 'h', 'e', 'i', 'r', ' ', 'd', 'a', 'v', 'e', ' ', 'a', 'n', 'd', ' ', 'p', 'o', 't', 'a', 't', 'o', ' ', 's', 'c', 'h', 'e', 'd', 'u', 'l', 'e', ' ', 'f', 'o', 'r', ' ', 'a', 'n', 'y', ' ', 'h', 'u', 's', 'b', 'a', 'n', 'd', ' ', 'b', 'y', ' ', 'f', 'a', 'r', '.', ' ', 'a', 'n', 'd', ' ', 't', 'h', 'e', ' ', 'r', 'e', 's', 't', ' ', 'o', 'f', ' ', 't', 'h', 'e', ' ', 'i', 'n', ' ', 'l', 'a', 'w', ' ', 'i', 's', ' ', 'a', 'm', 'a', 'z', 'i', 'n', 'g', '.', ' ', 'h', 'e', ' ', 'h', 'a', 's', ' ', 'a', ' ', 'v', 'e', 'r', 'y', ' ', 'a', 't', 't', 'e', 'n', 't', '<EOR>']\n",
      "\n",
      "['<SOR>', '-', ' ', 'n', 'i', 'c', 'e', ' ', 'a', 'n', 'd', ' ', 'n', 'e', 'w', ' ', 'o', 'r', ' ', 't', 'o', 'w', 'e', 'l', ' ', 's', 'a', 'i', 'd', ',', ' ', 'a', 'l', 'l', ' ', 't', 'h', 'a', 't', ' ', 't', 'h', 'e', 'r', 'e', ' ', 'r', 'e', 'c', 'o', 'r', 'd', ' ', '*', '*', '7', '+', '5', '?', ' ', 't', 'h', 'e', 'r', 'e', ' ', 'a', 'r', 'e', ' ', 'b', 'e', 's', 't', ' ', 's', 't', 'o', 'r', 'e', ' ', 'p', 'l', 'u', 'n', 'c', 'h', 'e', 'r', 's', ',', ' ', 'b', 'u', 't', ' ', 't', 'o', 'd', 'a', 'y', ' ', 'i', 't', \"'\", 's', ' ', 'a', 's', ' ', 'g', 'r', 'e', 'a', 't', ' ', 'a', 's', ' ', 'i', 't', ' ', 'g', 'o', ' ', 's', 'w', 'e', 'e', 't', '.', '<EOR>']\n",
      "\n",
      "['<SOR>', 'w', 'a', 'l', 'k', 'e', 'd', ' ', 'i', 'n', ' ', 'a', 'n', 'd', ' ', 'w', 'h', 'e', 'n', ' ', 'i', ' ', 'c', 'o', 'l', 'o', 'r', 'e', 'd', ' ', 't', 'h', 'e', ' ', 's', 't', 'r', 'i', 'p', '!', ' ', 't', 'h', 'e', 'r', 'e', ' ', 'w', 'a', 's', ' ', 'e', 'i', 'g', 'h', 't', ' ', 's', 'h', 'a', 'm', 'p', 'h', 'a', ' ', 'f', 'r', 'i', 'e', 'n', 'd', 's', '.', ' ', ' ', 's', 'o', 'u', 'p', ' ', 'w', 'i', 't', 'h', ' ', 'l', 'o', 's', 's', ' ', 'w', 'o', 'r', 'k', 'i', 'n', 'g', ' ', 'o', 'r', ' ', 'r', 'e', 'd', ' ', 'r', 'e', 'a', 'd', 'e', 'd', ' ', 't', 'h', 'e', ' ', 'p', 'o', 'l', 'e', 'n', 't', 'o', ' ', 'f', 'o', 'r', ' ', 'q', 'u', 'i', 'c', 'k', ' ', 'n', 'e', 'e', 'd', 's', ' ', 'a', 'n', 'd', ' ', 't', 'u', 's', 's', 'e', 'd', ' ', '<EOR>']\n",
      "\n",
      "['<SOR>', 'c', 'a', 'r', 'd', ' ', 'c', 'h', 'a', 'l', 'l', 'e', 'n', 'g', 'e', '.', ' ', 'j', 'u', 's', 't', ' ', 'd', 'r', 'i', 'n', 'k', ' ', 'a', 't', ' ', 'l', 'i', 's', 't', ' ', 'o', 'n', ' ', 'b', 'a', 'd', '.', ' ', ' ', 'i', 'f', ' ', 'y', 'o', 'u', ' ', 'a', 'r', 'e', ' ', 'i', 'n', ' ', 'm', 'y', ' ', 'l', 'a', 's', 't', ' ', 'd', 'o', 'n', 't', '-', \"'\", 'n', ' ', 'c', 'a', 'r', 'e', ' ', 'y', 'o', 'u', 'r', ' ', 'd', 'e', 's', 'e', 'r', 't', ',', ' ', 'u', 'p', 'd', 'a', 't', 'e', 's', ' ', 'y', 'o', 'u', ' ', 't', 'r', 'y', ' ', 'a', ' ', 't', 'i', 'm', 'e', '.', '.', '.', '.', 'e', 'x', 'p', 'e', 'r', 'i', 'e', 'n', 'c', 'e', ' ', 't', 'h', 'a', 't', ' ', 't', 'h', 'e', 'y', ' ', 'a', 'r', 'e', 'n', \"'\", 't', ' ', 'm', 'e', 'a', 'l', '<EOR>']\n",
      "\n",
      "['<SOR>', 'f', 'o', 'r', ' ', 't', 'h', 'e', ' ', 'e', 'x', 'p', 'e', 'r', 'i', 'e', 'n', 'c', 'e', ' ', 'h', 'e', 'r', 'e', '.', ' ', 's', 'o', ' ', 'w', 'e', ' ', 'c', 'a', 'n', ' ', 's', 'w', 'e', 'e', 't', ' ', 'd', 'i', 'f', 'f', 'e', 'r', 'e', 'n', 't', ' ', 'o', 't', 'h', 'e', 'r', ' ', 't', 'h', 'i', 'n', 'g', 's', ',', ' ', 't', 'h', 'e', 'i', 'r', ' ', 'o', 't', 'h', 'e', 'r', ' ', 'j', 'o', 'b', 's', ' ', 'f', 'o', 'r', ' ', 'i', ' ', 'b', 'o', 'o', 'k', 'e', 'd', ' ', 'a', 'n', ' ', 'i', 'n', 'g', 'r', 'e', 'd', 'i', 'e', 'n', 't', '.', ' ', 't', 'h', 'e', 'y', ' ', 'a', 'r', 'e', 'n', \"'\", 't', ' ', 't', 'o', 'o', '.', '.', '.', 't', 'h', 'e', 'r', 'e', ' ', 'i', 's', ' ', 'j', 'u', 's', 't', ' ', 'm', 'a', 'k', 'i', 'n', 'g', ' ', 'g', '<EOR>']\n",
      "\n",
      "['<SOR>', 'i', 'n', ' ', 'g', 'r', 'e', 'a', 't', ',', ' ', 'g', 'e', 'n', 'e', 'r', 'a', 'l', 'l', 'y', ',', ' ', 'h', 'a', 'p', 'p', 'y', ' ', 'a', 'n', 'd', ' ', 't', 'a', 's', 't', 'y', ' ', 's', 'a', 'l', 'o', 'n', '!', ' ', ' ', 't', 'h', 'e', 'y', ' ', 'e', 'n', 'c', 'o', 'u', 'r', 'a', 'g', 'e', 'd', ' ', 't', 'h', 'e', ' ', 'g', 'i', 'r', 'l', 's', '.', ' ', ' ', 'i', ' ', 'w', 'e', 'n', 't', ' ', 'w', 'i', 't', 'h', ' ', 'a', ' ', 's', 'w', 'i', 'm', ' ', 's', 't', 'o', 'r', 'e', ' ', 'f', 'o', 'r', ' ', 'n', 'o', 'w', ',', ' ', 'r', 'e', 'g', 'u', 'l', 'a', 'r', 'l', 'y', ' ', 's', 'c', 'h', 'e', 'd', 'u', 'l', 'e', 'd', ' ', 'o', 'n', ' ', 'f', 'u', 't', 'u', 'r', 'e', ',', ' ', 'c', 'h', 'r', 'i', 's', ',', ' ', 'h', 'e', ' ', 'w', 'a', '<EOR>']\n",
      "\n",
      "['<SOR>', 'h', 'e', ' ', 'c', 'a', 'l', 'l', 'e', 'd', ' ', 'i', 'n', ' ', 'a', 'n', ' ', 'a', 'w', 'e', 's', 'o', 'm', 'e', ' ', 't', 'r', 'e', 'm', 'e', 'n', 'd', 'o', 'u', 's', ' ', 'p', 'e', 'r', 'f', 'e', 'c', 't', ' ', 't', 'e', 'm', 'p', 'e', 'r', 'a', 't', 'u', 'r', 'e', ' ', 'o', 'f', ' ', 't', 'h', 'e', ' ', 'q', 'u', 'a', 'l', 'i', 't', 'y', ' ', 'i', 'n', ' ', 'p', 'a', 'l', 'a', 'c', 'e', ' ', 'a', 'n', 'd', ' ', 'h', 'a', 'd', ' ', 's', 'o', ' ', 'm', 'u', 'c', 'h', ' ', 'e', 'v', 'e', 'n', ' ', 'i', 'f', ' ', 'y', 'o', 'u', ' ', 'l', 'o', 'v', 'e', ' ', 't', 'h', 'a', 't', '.', '<EOR>']\n",
      "\n",
      "['<SOR>', 'i', ' ', 'w', 'a', 's', ' ', 'g', 'o', 'i', 'n', 'g', ' ', 't', 'o', ' ', 'w', 'o', 'r', 'r', 'y', ',', ' ', 'b', 'u', 't', ' ', 'b', 'l', 'e', 'd', ' ', 'm', 'e', ' ', 'a', 'n', 'd', ' ', 'l', 'a', 'd', 'i', 'e', 's', ' ', 'k', 'n', 'o', 'w', 'i', 'n', 'g', ' ', 'h', 'o', 'w', ' ', 'm', 'u', 'c', 'h', ' ', 'i', ' ', 'w', 'a', 's', ' ', 's', 'u', 'p', 'e', 'r', ' ', 'a', 'w', 'e', 's', 'o', 'm', 'e', ' ', 'w', 'a', 's', ' ', 'h', 'a', 'n', 'd', 'l', 'e', 'd', ' ', 'a', 'n', ' ', 'h', 'o', 'u', 'r', ' ', 'a', 'n', 'd', ' ', 'o', 'n', 'l', 'y', ' ', 'w', 'a', 's', ' ', 'k', 'i', 'n', 'd', '.', ' ', ' ', 'i', 't', \"'\", 's', ' ', 'a', ' ', 't', 'w', 'i', 'c', 'i', 'n', 'g', ' ', 'i', 'n', ' ', 't', 'h', 'e', ' ', 'p', 'r', 'o', 'g', 'r', 'a', '<EOR>']\n",
      "\n",
      "['<SOR>', 't', 'h', 'e', ' ', 'w', 'a', 'i', 't', 'r', 'e', 's', 's', ' ', 's', 'a', 'n', 'd', 'w', 'i', 'c', 'h', 'e', 'd', ' ', 'p', 'r', 'e', 's', 'e', 'n', 't', 'a', 't', 'i', 'o', 'n', 's', ' ', 'o', 'n', ' ', 't', 'h', 'e', ' ', 'c', 'h', 'i', 'c', 'k', 'e', 'n', ' ', 'p', 'r', 'i', 'c', 'e', ' ', 'c', 'o', 'n', 'v', 'e', 'r', 's', 'a', 't', 'i', 'o', 'n', '.', ' ', 't', 'h', 'e', 'i', 'r', ' ', 'm', 'i', 'l', 'k', ' ', 's', 'h', 'o', 'w', 'e', 'r', 's', ' ', 'a', 'n', 'd', ' ', 's', 'w', 'e', 'e', 't', 'n', 'e', 's', 's', ' ', 'e', 'n', 'e', 'r', 'g', 'y', ' ', 'w', 'o', 'r', 't', 'h', ' ', 'y', 'o', 'u', ' ', 'r', 'o', 'o', 'f', ' ', 'i', 'n', 'c', 'l', 'u', 'd', 'i', 'n', 'g', ' ', '&', ' ', 'o', 'v', 'e', 'r', ' ', 'r', 'i', 'c', 'h', ' ', '<EOR>']\n",
      "\n",
      "['<SOR>', 't', 'o', ' ', 't', 'o', 'p', ' ', 'i', 'n', 's', 'i', 'd', 'e', ' ', 'i', 'n', ' ', 'f', 'a', 'c', 't', ',', ' ', 'w', 'i', 't', 'h', ' ', 'a', ' ', 'r', 'e', 's', 't', 'a', 'u', 'r', 'a', 'n', 't', ' ', 'f', 'a', 'm', 'i', 'l', 'y', ' ', 'f', 'r', 'e', 's', 'h', 'l', 'y', ' ', 'e', 's', 'p', 'e', 'c', 'i', 'a', 'l', 'l', 'y', ' ', 't', 'h', 'e', ' ', 'p', 'a', 'r', 'k', ' ', 'o', 'f', ' ', 'q', 'u', 'a', 'l', 'i', 't', 'y', ' ', 'l', 'i', 'n', 'e', 's', '.', ' ', 'i', ' ', 's', 'a', 't', ' ', 'o', 'n', ' ', 'a', ' ', 'c', 'o', 'u', 'p', 'l', 'e', ' ', 'o', 'f', ' ', 'd', 'a', 'y', 's', ' ', 'o', 'f', ' ', 'o', 'p', 'e', 'n', ' ', 'm', 'a', 'n', ' ', '&', ' ', 'g', 'o', 'o', 'd', ' ', 'n', 'a', 'c', 'h', 'o', 's', ' ', '(', 'h', 'e', 'r', '<EOR>']\n",
      "\n",
      "['<SOR>', 'a', 'l', 'l', ' ', 'o', 'f', ' ', 'o', 'u', 'r', ' ', 'c', 'o', 'm', 'p', 'a', 'n', 'y', ' ', 'h', 'a', 'd', ' ', 'c', 'u', 't', ' ', 'o', 'u', 't', ' ', 'i', 'n', '.', ' ', 't', 'h', 'a', 'n', 'k', ' ', 'y', 'o', 'u', ' ', 'm', 'a', 'n', 'g', 'r', 'e', 'a', 'e', '!', ' ', 'e', 'v', 'e', 'r', 'y', ' ', 's', 'i', 'r', 'u', 'l', ' ', 'i', 's', ' ', 'a', 'm', 'a', 'z', 'i', 'n', 'g', ',', ' ', 'a', 'n', 'd', ' ', 'w', 'e', ' ', 'g', 'o', 't', ' ', 'd', 'e', 'b', 'i', 's', ' ', 's', 'i', 't', 't', 'i', 'n', 'g', ' ', 'm', 'y', 's', 'e', 'l', 'f', '.', ' ', ' ', 'i', ' ', 't', 'h', 'i', 'n', 'k', ' ', 't', 'h', 'e', ' ', 'l', 'o', 'v', 'e', 'l', 'y', ' ', 'm', 'o', 'r', 'e', ' ', 'd', 'e', 'l', 'i', 'v', 'e', 'r', 'e', 'd', ' ', 't', 'h', 'e', '<EOR>']\n",
      "\n",
      "['<SOR>', 'a', 'n', 'd', ' ', 'c', 'l', 'i', 'e', 'n', 't', 's', ' ', 't', 'o', ' ', 's', 'a', 'k', 'e', ' ', 'd', 'i', 'a', 'g', 'n', 'o', 's', 'e', 's', ' ', 'y', 'o', 'u', 'r', ' ', 's', 't', 'u', 'r', 'n', \"'\", 's', ' ', 'w', 'i', 't', 'h', 'o', 'u', 't', ' ', 'f', 'u', 'p', '.', 'a', 'l', 'w', 'a', 'y', 's', ' ', 'k', 'n', 'o', 'w', ' ', 'w', 'h', 'a', 't', ' ', 't', 'o', ' ', 'o', 'p', 'e', 'n', ' ', 'u', 'p', ' ', 'f', 'o', 'r', ' ', 'u', 's', ' ', 'w', 'i', 't', 'h', ' ', 'a', ' ', 'p', 'l', 'a', 'c', 'e', ' ', 't', 'h', 'a', 't', ' ', 'm', 'a', 'k', 'e', ' ', 's', 'o', 'm', 'e', ' ', 'p', 'r', 'e', 's', 'e', 'n', 't', 'a', 't', 'i', 'o', 'n', ' ', 'f', 'e', 'e', 's', ' ', 'h', 'i', 'm', 's', 'e', 'l', 'f', ' ', 'a', 's', ' ', 'b', 'e', ' ', '<EOR>']\n",
      "\n",
      "['<SOR>', 'm', 'a', 'd', 'e', ' ', 'f', 'r', 'e', 's', 'h', ' ', 'm', 'e', 'a', 'l', '.', ' ', 't', 'h', 'i', 's', ' ', 'w', 'a', 's', ' ', 't', 'h', 'e', ' ', 'm', 'i', 's', 't', 'a', 'k', 'e', ' ', 'o', 'f', ' ', 'a', ' ', 'v', 'i', 's', 'i', 't', ' ', 'b', 'e', 'f', 'o', 'r', 'e', ' ', ' ', 'w', 'e', ' ', 'w', 'e', 'r', 'e', ' ', 't', 'h', 'e', 'r', 'e', ' ', 'w', 'i', 't', 'h', ' ', '3', ' ', 'd', 'i', 'f', 'f', 'e', 'r', 'e', 'n', 't', ' ', 'p', 'e', 'r', 'f', 'e', 'c', 't', ' ', 's', 'h', 'a', 'r', 'e', 'd', ' ', 'f', 'b', 'q', ' ', 'b', 'i', 'g', ' ', 'g', 'o', 'a', 't', 's', ',', ' ', 'w', 'h', 'i', 'c', 'h', ' ', 'w', 'e', 'r', 'e', ' ', 'd', 'i', 'f', 'f', 'e', 'r', 'e', 'n', 't', ' ', 'a', 'n', 'd', ' ', 'd', 'e', 'c', 'e', 'n', 't', 'l', '<EOR>']\n",
      "\n",
      "['<SOR>', 'w', 'e', ' ', 'w', 'e', 'r', 'e', ' ', 'w', 'i', 't', 'h', ' ', 'a', ' ', 'b', 'i', 't', ' ', 'o', 'f', ' ', 'a', ' ', 'r', 'e', 'g', 'u', 'l', 'a', 'r', ' ', 'l', 'i', 'f', 'e', ' ', 'a', 'n', 'd', ' ', 's', 'h', 'e', ' ', 'g', 'a', 'v', 'e', ' ', 'm', 'e', ' ', 'a', ' ', 'g', 'r', 'e', 'a', 't', ' ', 's', 'u', 'm', 'm', 'e', 'r', ' ', 'p', 'a', 'm', 'p', 'o', 'r', 't', 'r', 'i', 'l', 'e', ' ', 't', 'o', ' ', 't', 'e', 'm', 'p', 'e', '.', ' ', 't', 'h', 'e', ' ', 'w', 'a', 'i', 't', 'r', 'e', 's', 's', ' ', 'w', 'a', 's', ' ', 'r', 'e', 'a', 'l', 'l', 'y', ' ', 's', 'u', 'p', 'e', 'r', ' ', 'c', 'o', 'o', 'l', ' ', 'b', 'r', 'e', 'a', 'k', 'f', 'a', 's', 't', '.', ' ', 's', 'h', 'e', ' ', 'g', 'i', 'v', 'e', 's', ' ', 'm', 'e', ' ', 'c', '<EOR>']\n",
      "\n"
     ]
    }
   ],
   "source": [
    "with open(\"artificial_train_data.csv\", 'r') as csvfile:\n",
    "    reader = csv.reader(csvfile, delimiter=',')\n",
    "    for row in reader:\n",
    "        print(row)\n",
    "        #print(''.join(row))\n",
    "        print()"
   ]
  },
  {
   "cell_type": "code",
   "execution_count": 18,
   "metadata": {},
   "outputs": [],
   "source": [
    "generated_review_char_list = [item for sublist in clipped_review_list for item in sublist]"
   ]
  },
  {
   "cell_type": "code",
   "execution_count": 19,
   "metadata": {},
   "outputs": [],
   "source": [
    "generated_chars = pd.Series(generated_review_char_list)"
   ]
  },
  {
   "cell_type": "code",
   "execution_count": 20,
   "metadata": {},
   "outputs": [
    {
     "data": {
      "text/plain": [
       "count     13070\n",
       "unique       56\n",
       "top            \n",
       "freq       2376\n",
       "dtype: object"
      ]
     },
     "execution_count": 20,
     "metadata": {},
     "output_type": "execute_result"
    }
   ],
   "source": [
    "generated_chars.describe()"
   ]
  },
  {
   "cell_type": "code",
   "execution_count": 21,
   "metadata": {},
   "outputs": [
    {
     "name": "stdout",
     "output_type": "stream",
     "text": [
      "[]\n"
     ]
    }
   ],
   "source": [
    "#import collections\n",
    "print([item for item, count in collections.Counter(generated_reviews).items() if count > 1])"
   ]
  },
  {
   "cell_type": "code",
   "execution_count": 22,
   "metadata": {},
   "outputs": [],
   "source": [
    "char_counts = collections.Counter(generated_review_char_list).items()"
   ]
  },
  {
   "cell_type": "code",
   "execution_count": 23,
   "metadata": {},
   "outputs": [
    {
     "name": "stdout",
     "output_type": "stream",
     "text": [
      "('o', 762)\n",
      "('f', 286)\n",
      "(' ', 2376)\n",
      "('y', 253)\n",
      "('u', 288)\n",
      "('r', 602)\n",
      "('b', 156)\n",
      "('w', 252)\n",
      "('s', 646)\n",
      "('e', 1294)\n",
      "(',', 86)\n",
      "('a', 913)\n",
      "('t', 934)\n",
      "('l', 430)\n",
      "('h', 514)\n",
      "('i', 686)\n",
      "('n', 624)\n",
      "('k', 97)\n",
      "('g', 229)\n",
      "('c', 283)\n",
      "(\"'\", 34)\n",
      "('d', 400)\n",
      "('.', 147)\n",
      "('p', 210)\n",
      "('v', 112)\n",
      "('m', 235)\n",
      "('!', 63)\n",
      "('&', 2)\n",
      "('z', 21)\n",
      "('j', 20)\n",
      "('q', 13)\n",
      "('-', 15)\n",
      "('(', 14)\n",
      "(')', 7)\n",
      "('\"', 2)\n",
      "('=', 1)\n",
      "('x', 13)\n",
      "(';', 1)\n",
      "(':', 3)\n",
      "('1', 8)\n",
      "('8', 3)\n",
      "('4', 1)\n",
      "('5', 4)\n",
      "('2', 3)\n",
      "('*', 2)\n",
      "('7', 2)\n",
      "('+', 1)\n",
      "('?', 3)\n",
      "('{', 1)\n",
      "('$', 3)\n",
      "('#', 1)\n",
      "('0', 6)\n",
      "('6', 1)\n",
      "('3', 4)\n",
      "('9', 2)\n",
      "('/', 1)\n"
     ]
    }
   ],
   "source": [
    "for item in char_counts:\n",
    "    print(item)"
   ]
  },
  {
   "cell_type": "code",
   "execution_count": 68,
   "metadata": {},
   "outputs": [],
   "source": [
    "char_list = []\n",
    "count_list = []\n",
    "for a in char_counts:\n",
    "    #print(a[0])\n",
    "    #print(a[1])\n",
    "    if a[0] != \" \":\n",
    "        #print(a[1])\n",
    "        char_list.append(a[0])\n",
    "        count_list.append(a[1])"
   ]
  },
  {
   "cell_type": "code",
   "execution_count": null,
   "metadata": {},
   "outputs": [],
   "source": []
  },
  {
   "cell_type": "code",
   "execution_count": null,
   "metadata": {},
   "outputs": [],
   "source": [
    "#total - spaces\n",
    "total_chars = 1370 - 236\n"
   ]
  }
 ],
 "metadata": {
  "kernelspec": {
   "display_name": "Python 3",
   "language": "python",
   "name": "python3"
  },
  "language_info": {
   "codemirror_mode": {
    "name": "ipython",
    "version": 3
   },
   "file_extension": ".py",
   "mimetype": "text/x-python",
   "name": "python",
   "nbconvert_exporter": "python",
   "pygments_lexer": "ipython3",
   "version": "3.6.4"
  }
 },
 "nbformat": 4,
 "nbformat_minor": 2
}
