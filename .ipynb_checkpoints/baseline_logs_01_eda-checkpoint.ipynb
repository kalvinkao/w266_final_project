{
 "cells": [
  {
   "cell_type": "code",
   "execution_count": 1,
   "metadata": {},
   "outputs": [],
   "source": [
    "import json\n",
    "import numpy as np\n",
    "import collections\n",
    "import pandas as pd"
   ]
  },
  {
   "cell_type": "code",
   "execution_count": 2,
   "metadata": {},
   "outputs": [],
   "source": [
    "filename = \"baseline_logs_01.json\""
   ]
  },
  {
   "cell_type": "code",
   "execution_count": 3,
   "metadata": {},
   "outputs": [],
   "source": [
    "with open(filename, 'r') as f:\n",
    "    all_logs = json.load(f)"
   ]
  },
  {
   "cell_type": "code",
   "execution_count": 4,
   "metadata": {},
   "outputs": [
    {
     "data": {
      "text/plain": [
       "{'insertId': '1d41hkig1097li2',\n",
       " 'jsonPayload': {'created': 1532326203.583701,\n",
       "  'levelname': 'INFO',\n",
       "  'lineno': 326,\n",
       "  'message': '[batch 137]: seen 5299200 words at 3202.4 wps, loss = 2.428',\n",
       "  'pathname': '/runcloudml.py'},\n",
       " 'labels': {'compute.googleapis.com/resource_id': '2080932681024947335',\n",
       "  'compute.googleapis.com/resource_name': 'cmle-training-ps-9780a94e1c-3-lv4rr',\n",
       "  'compute.googleapis.com/zone': 'us-central1-c',\n",
       "  'ml.googleapis.com/job_id': 'baseline_test_complex_model_l_03',\n",
       "  'ml.googleapis.com/job_id/log_area': 'root',\n",
       "  'ml.googleapis.com/task_name': 'ps-replica-3',\n",
       "  'ml.googleapis.com/trial_id': ''},\n",
       " 'logName': 'projects/muthderd-w266-000001/logs/ps-replica-3',\n",
       " 'receiveTimestamp': '2018-07-23T06:10:08.919353180Z',\n",
       " 'resource': {'labels': {'job_id': 'baseline_test_complex_model_l_03',\n",
       "   'project_id': 'muthderd-w266-000001',\n",
       "   'task_name': 'ps-replica-3'},\n",
       "  'type': 'ml_job'},\n",
       " 'severity': 'INFO',\n",
       " 'timestamp': '2018-07-23T06:10:03.583700895Z'}"
      ]
     },
     "execution_count": 4,
     "metadata": {},
     "output_type": "execute_result"
    }
   ],
   "source": [
    "all_logs[1294]"
   ]
  },
  {
   "cell_type": "code",
   "execution_count": 5,
   "metadata": {},
   "outputs": [
    {
     "data": {
      "text/plain": [
       "'[batch 137]: seen 5299200 words at 3202.4 wps, loss = 2.428'"
      ]
     },
     "execution_count": 5,
     "metadata": {},
     "output_type": "execute_result"
    }
   ],
   "source": [
    "all_logs[1294]['jsonPayload']['message']"
   ]
  },
  {
   "cell_type": "code",
   "execution_count": 6,
   "metadata": {},
   "outputs": [
    {
     "data": {
      "text/plain": [
       "dict"
      ]
     },
     "execution_count": 6,
     "metadata": {},
     "output_type": "execute_result"
    }
   ],
   "source": [
    "type(all_logs[0])"
   ]
  },
  {
   "cell_type": "code",
   "execution_count": 7,
   "metadata": {},
   "outputs": [
    {
     "data": {
      "text/plain": [
       "'Job cancelled.'"
      ]
     },
     "execution_count": 7,
     "metadata": {},
     "output_type": "execute_result"
    }
   ],
   "source": [
    "all_logs[0]['textPayload']"
   ]
  },
  {
   "cell_type": "code",
   "execution_count": 8,
   "metadata": {},
   "outputs": [],
   "source": [
    "generated_reviews = []\n",
    "for log in all_logs:\n",
    "    if 'jsonPayload' in log.keys():\n",
    "        payload = log['jsonPayload']\n",
    "        if 'message' in payload.keys():\n",
    "            message = payload['message']\n",
    "            if \"SOR\" in message:\n",
    "                generated_reviews.append(message)\n",
    "    #message = log['textPayload']\n",
    "    #if \"SOR\" in message:\n",
    "        #generated_reviews.append(message)"
   ]
  },
  {
   "cell_type": "code",
   "execution_count": 9,
   "metadata": {},
   "outputs": [
    {
     "name": "stdout",
     "output_type": "stream",
     "text": [
      "<SOR>of your browses, at least a few years later this is not to look thing, higher than the other folks in the clothing's, thats ordering this cook for. th\n",
      "<SOR>huge pool and cheese. the office is really gining our trip and driving up away, as well.  special artist was moving and few much in my night for a few\n",
      "<SOR>buffet in the day.  i will be back!<EOR>\n",
      "<SOR>went in, and loved it!!!<EOR>\n",
      "<SOR>food!<EOR>\n",
      "<SOR>one more than i stayed!<EOR>\n",
      "<SOR>the waitress sandwiched presentations on the chicken price conversation. their milk showers and sweetness energy worth you roof including & over rich \n",
      "<SOR>is the new york.spicy, a creamy potatoes and osh salad book needs to eat it, unfortunately stobe bels 's.i noticed that shenry is from best part of th\n",
      "<SOR>better combinations, friendly events. there are bonus!!!!i've seen the routine thing to suggest you have two stretches at a small card and my goodness\n",
      "<SOR>my taco is normally!! the best and this place is actually stalking and after we've had carrots before compliments of all the toohs. for the world.  de\n",
      "<SOR>we didunt, real shop, and a new crazy hummus. i did not find some money up just enough quiet items. the place is amazing and they come in right for th\n",
      "<SOR>discovered the fun i come out to the girl.  the pre-school salad was a sweet, seating and all so just a bottle of the dishes (or more matscheeling kay\n",
      "<SOR>great sushi brew (here you can tell leahal-art) once went with some of that!  i finally didn't want to drink at marghart crams that come here. as for \n",
      "<SOR>when we can't find but place was large for my favorite place where one of those dinners are also great. we live in the early and always return! leave \n",
      "<SOR>can touch me salt.  with the way change and definitely honest, we had a flighted headberries and meats. the food was continued. every size and course \n",
      "<SOR>my waiter, and let be meeting on a waiting door office. (yes, the paleage home to shrimp across the back tacos rango\", with efficients basically celeb\n",
      "<SOR>they were great that tight a comment of white sign.  the got them listed to a cheap of good comments into other restaurants all less changing waffles,\n",
      "<SOR>to top inside in fact, with a restaurant family freshly especially the park of quality lines. i sat on a couple of days of open man & good nachos (her\n",
      "<SOR>heaven was selicious.  with to grow and ballary may must be to have some of the apartments there with anything in love with the ton of anything specia\n",
      "<SOR>incredibly nice to an advice. everything was so fresh, and i am not coursed with their u-worst pieces. but just happy completely ask guest......=why i\n",
      "<SOR>with much lunch when we suggested. the sausage is perfect but my year ago did my own dirbs are definitely the best hard...the options were kind-- we a\n",
      "<SOR>and there was no strip off an upcome out of the city because i never tell everything that everyone is extremely friendly. imagine always gives me a mo\n",
      "<SOR>in the valley;this (bathroom, mord cardline flaburance:) so accommodating. i usually forget to class red heat more. my mom had no class wrong before e\n",
      "<SOR>and most of they really enjoyed our crepes....  when i ordered any champagne wrong impressions and i could have gone to weather but worth it!<EOR>\n",
      "<SOR>i was going to worry, but bled me and ladies knowing how much i was super awesome was handled an hour and only was kind.  it's a twicing in the progra\n",
      "<SOR>my wife has been able to say an airport a few appetizers and i had to talk about this place! all including hoon push other sauce stars is watering and\n",
      "<SOR>and clients to sake diagnoses your sturn's without fup.always know what to open up for us with a place that make some presentation fees himself as be \n",
      "<SOR>there came to their phone has just cleaned the fan. finally, the broasted risket bacon was easy. annual asian seating area and everything was amazing.\n",
      "<SOR>see most people so you dont look to easily read carles. color steve local kolboss j'agazicingrot, etc.  or a weekend note: its the perfectly banana tr\n",
      "<SOR>he called in an awesome tremendous perfect temperature of the quality in palace and had so much even if you love that.<EOR>\n",
      "<SOR>has the best base to everyone. the service is always amazing! this is located after his staff.  this is the master majority of the kondiead dishes and\n",
      "<SOR>you can try the package of fish.  with a massage, the hot burger roll beries carning pizza, 1) but pea bottles with discommand was great, delicious an\n",
      "<SOR>i'll say, even a more server in vegas to say, a used total dealer near everything like accept one<EOR>\n",
      "<SOR>in great, generally, happy and tasty salon!  they encouraged the girls.  i went with a swim store for now, regularly scheduled on future, chris, he wa\n",
      "<SOR>steak.  18:45 usural, it was super very friendly and had a fabulous pizza!!airya-agreeted we got a black tajara and were remarkable with little goods.\n",
      "<SOR>bucks!!!!!not great with a remember of the anumority, some of the same accompanied waiting of many saturdays as for me. there is what you like this ch\n",
      "<SOR>wasn't this. thanks so much early!<EOR>\n",
      "<SOR>for change. so right now and have a good outdoor spot to eat here. the service is quite in and when your need you grew up, but i did not give accompan\n",
      "<SOR>on the weeks.<EOR>\n",
      "<SOR>portasswims opened the top! i can't even have the buffalo options before i was quite deserved by a great iced crunch of both italian food. his card an\n",
      "<SOR>start to bump until she knew to ordering our veggiesserted powers for a lunch or the patty landscape!! she was a treat, and i will definitely come bac\n",
      "<SOR>with definitely discount yet, carmamen, but then from being styled so especially for the next day. there on its acty, makes you feel very attentive, b\n",
      "<SOR>went away before once we understand how to watch their dentist that i needed from work drinked.go.it's probably a good selection of hot patios before \n",
      "<SOR>- i haven't had a dress center interesting lots.last year, there's lots of theater worked provided to took their if we will still take gang.  we will \n",
      "<SOR>the fish was packed at the birthday too.  2. margaritas are so different!<EOR>\n",
      "<SOR>and i've yet to find this star roll club!<EOR>\n",
      "<SOR>our office attention to our soup or as a friend, the late visit it was scrient schrobbly. two smaller dessert places being happy hour and the flavorfu\n",
      "<SOR>for the experience here. so we can sweet different other things, their other jobs for i booked an ingredient. they aren't too...there is just making g\n",
      "<SOR>- nice and new or towel said, all that there record **7+5? there are best store plunchers, but today it's as great as it go sweet.<EOR>\n",
      "<SOR>{pair of crispy but which took a little cooked with tempura sprinkles, and their fact that their world was so helpful and private and knowledgeable, i\n",
      "<SOR>even sacepha okay (upon last, you get their table and the staff are amazing, your first time i forgot it was intimal but we do the amps area case. kid\n",
      "<SOR>he is very uptone and hopefully and their lunch taste really fluffy, but amazing, came out quite fresh and fluffy and topped with fries.  the girl imm\n",
      "<SOR>that neighborhood looks like a daigner (at even order montas fried bbq... experience atmosphere, don't feel like you're extra location scarpige, plent\n",
      "<SOR>but possibly the piercing of food compared to a seafood ballack place for brunch.they let you have dinner point with your own new favorite spa here. a\n",
      "<SOR>a can find my bathroom hair is my car.<EOR>\n",
      "<SOR>so i made friends and who always made a hassle here. i told to me what the cocktails were looking for while i would like to order from la best of the \n",
      "<SOR>great package, and although sorry<EOR>\n",
      "<SOR>when she says it was a bill burrito by noodles, at the fried general $75p in pizza was nice enough to help me just thank you in deals!!  #1.00 capus c\n",
      "<SOR>no other location. i find the size of the geast bottle of their own helpful regular way to how you go there, and highly recommend friends, i have adve\n",
      "<SOR>immediately with taxakin chili peanuts, changing, and caring trainers the dish! i really enjoy staying in phoenix for their manner has from the review\n",
      "<SOR>so we decided to give this a class and on dinner.this is the only downside-- being said it would be my sweathead. got acrea my edamame couples within \n",
      "<SOR>my favorite.  so i say this place is also perfect! the employees play from with everything gluten free fried rice and a hands down resist. along with \n",
      "<SOR>however, it tasted like a duck egg. word was wonderful.<EOR>\n",
      "<SOR>delicious!<EOR>\n",
      "<SOR>a true hard fix!!! the owner, egg, olive and potato was classy, simple and ill take the time to even have found the food is damn again i've never been\n",
      "<SOR>of the pace of 681.the fried onion, mo puts tinting! unsurely questions in us this place ended up perfectly. the food was outstanding, here is large a\n",
      "<SOR>upness sad right up a long window of camber but we had the share boke pipe but we sat at the end of the gep! paran is so good that they are very prima\n",
      "<SOR>we were with a bit of a regular life and she gave me a great summer pamportrile to tempe. the waitress was really super cool breakfast. she gives me c\n",
      "<SOR>made fresh meal. this was the mistake of a visit before  we were there with 3 different perfect shared fbq big goats, which were different and decentl\n",
      "<SOR>all of our company had cut out in. thank you mangreae! every sirul is amazing, and we got debis sitting myself.  i think the lovely more delivered the\n",
      "<SOR>pairless products not fancy.  trying to go anything on the guandi warm at about a hole...)staff, a little over their friendly. our new desserts at the\n",
      "<SOR>i love the ausperience of cost which i didn't enjoy.<EOR>\n",
      "<SOR>deals? at about 30 years now? manager took me to my eyecork hotel and paid the tickets, and then they should go to.i would definitely returned!<EOR>\n",
      "<SOR>$9. when we went to the moment i wanted one diner! so i thought its hard to come upon this place so i did not tell you it is.  i had dining at the dis\n",
      "<SOR>mini had a great experience. i've never felt surprised. it was heavy and crunchy. the house steaks was very comfortable, even with chicken-menu ((whic\n",
      "<SOR>incredibly genuinely professionalism and efficient management food too!<EOR>\n",
      "<SOR>have on time to get back so on the night.  he usually knew wow up to a mausgland of beef before and ampped me fun! a small, lot of friends seering a t\n",
      "<SOR>full beef and well smelly stuffed with business and all are right! amazing him review.one of the sweet beef beans and shrimp that laughers are fast. t\n",
      "<SOR>always feel like i'm in pancake. if you havent really don't actually precise i'd take your bar eclunch but you won't be disappointed - hytor does a fa\n",
      "<SOR>b/flowers in a great place. we like their dave and potato schedule for any husband by far. and the rest of the in law is amazing. he has a very attent\n",
      "<SOR>50 minutes, i set it for that! the bread sleegles of mill and roberts, listen of miar screens and surgedge and to taste. my quide of the side of me!it\n",
      "<SOR>going to tob!  a clean city the staff were so fun, and he was generous. i selected places (so coming to the wait. the limo are a stylist instead of th\n",
      "<SOR>8-12 buddies (sweet bananas - towards the bass) movewelry for a couple of themselves within a $10 little bite.competitive baked portion of that after \n",
      "<SOR>beats that this place is, but it is not at fural potatoes or special bases on people that i understand one of the best. the call standing on the deal \n",
      "<SOR>and they only take some quite shopping and bright and hearty.if you're not a big fan of issues, but highly recommended!<EOR>\n",
      "<SOR>we've always made it for a haircut. i'm really disappointed with this chinese food at the lot as far as the store normally friday covered it and offer\n",
      "<SOR>(honest for extensive each class looking for the layer mushroom store) was the sample of peanuts in the shape of country. creamy, pulled pork, atmosph\n",
      "<SOR>card challenge. just drink at list on bad.  if you are in my last dont-'n care your desert, updates you try a time....experience that they aren't meal\n",
      "<SOR>customer service is just on the puts very enough to get on before i would have lucky. loved that the wait staff was great, not great and offering up t\n",
      "<SOR>so i looked at words on my second review, to come tolarized. really loved it!<EOR>\n",
      "<SOR>sat one i even gave off a dieco neighborhood before getting a paid of it. especially since i was just not sure if my books had that side of the \"charf\n",
      "<SOR>the perfect beef shop. i like the inventory staff and i also liked their cauring potatoes. prices are bigger than your humous if not transtored.plus, \n",
      "<SOR>walked in and when i colored the strip! there was eight shampha friends.  soup with loss working or red readed the polento for quick needs and tussed \n",
      "<SOR>it didn't just cash i can give you it right move here. my prepared other place is awesome. stereals are far among your boyfriend or backs and trying o\n",
      "<SOR>full places ((19 country) of leagues are at great place to go as i bought 3 smiles. why comes great but they are super low clean with real huge. they \n",
      "<SOR>and all just when i wants to wait!!!!!<EOR>\n",
      "<SOR>japanese, friendly reviews, the guy enjoyed the products. i can say how they were burgers. you can see showouts. i have been to her in front of your w\n",
      "<SOR>proudly experienced promotions i wouldn't return and get your man!vi you have amazing staff and i will love the quality of the salon!!! a hotel or nic\n",
      "<SOR>you name 1230 for it and will recommend as i look forward to her at this place! leaving example of the areas are the staff and method skirt shouts of \n",
      "<SOR>for healthy areas nriss into the service. overall, i am not taken about any four of the staff to go, it can tell you that but this is so memorable unt\n"
     ]
    }
   ],
   "source": [
    "for review in generated_reviews:\n",
    "    print(review)"
   ]
  },
  {
   "cell_type": "code",
   "execution_count": 10,
   "metadata": {},
   "outputs": [],
   "source": [
    "seen = {}\n",
    "dupes = []\n",
    "\n",
    "for x in generated_reviews:\n",
    "    if x not in seen:\n",
    "        seen[x] = 1\n",
    "    else:\n",
    "        if seen[x] == 1:\n",
    "            dupes.append(x)\n",
    "        seen[x] += 1"
   ]
  },
  {
   "cell_type": "code",
   "execution_count": 11,
   "metadata": {},
   "outputs": [
    {
     "data": {
      "text/plain": [
       "[]"
      ]
     },
     "execution_count": 11,
     "metadata": {},
     "output_type": "execute_result"
    }
   ],
   "source": [
    "dupes"
   ]
  },
  {
   "cell_type": "code",
   "execution_count": 12,
   "metadata": {},
   "outputs": [
    {
     "data": {
      "text/plain": [
       "True"
      ]
     },
     "execution_count": 12,
     "metadata": {},
     "output_type": "execute_result"
    }
   ],
   "source": [
    "\"<EOR>\" in generated_reviews[95]"
   ]
  },
  {
   "cell_type": "code",
   "execution_count": 13,
   "metadata": {},
   "outputs": [
    {
     "data": {
      "text/plain": [
       "43"
      ]
     },
     "execution_count": 13,
     "metadata": {},
     "output_type": "execute_result"
    }
   ],
   "source": [
    "generated_reviews[95].find('<EOR>')"
   ]
  },
  {
   "cell_type": "code",
   "execution_count": 14,
   "metadata": {},
   "outputs": [
    {
     "data": {
      "text/plain": [
       "'<SOR>and all just when i wants to wait!!!!!<EOR>'"
      ]
     },
     "execution_count": 14,
     "metadata": {},
     "output_type": "execute_result"
    }
   ],
   "source": [
    "generated_reviews[95]"
   ]
  },
  {
   "cell_type": "code",
   "execution_count": 15,
   "metadata": {},
   "outputs": [
    {
     "data": {
      "text/plain": [
       "'<SOR>and all just when i wants to wait!!!!!'"
      ]
     },
     "execution_count": 15,
     "metadata": {},
     "output_type": "execute_result"
    }
   ],
   "source": [
    "generated_reviews[95][:43]"
   ]
  },
  {
   "cell_type": "code",
   "execution_count": 16,
   "metadata": {},
   "outputs": [],
   "source": [
    "clipped_review_list = []\n",
    "for review in generated_reviews:\n",
    "    clipped_review = review[5:]\n",
    "    if \"<EOR>\" in clipped_review:\n",
    "        eor_index = clipped_review.find('<EOR>')\n",
    "        clipped_review = clipped_review[:eor_index]\n",
    "    clipped_review_list.append(clipped_review)"
   ]
  },
  {
   "cell_type": "code",
   "execution_count": 17,
   "metadata": {},
   "outputs": [
    {
     "name": "stdout",
     "output_type": "stream",
     "text": [
      "of your browses, at least a few years later this is not to look thing, higher than the other folks in the clothing's, thats ordering this cook for. th\n",
      "huge pool and cheese. the office is really gining our trip and driving up away, as well.  special artist was moving and few much in my night for a few\n",
      "buffet in the day.  i will be back!\n",
      "went in, and loved it!!!\n",
      "food!\n",
      "one more than i stayed!\n",
      "the waitress sandwiched presentations on the chicken price conversation. their milk showers and sweetness energy worth you roof including & over rich \n",
      "is the new york.spicy, a creamy potatoes and osh salad book needs to eat it, unfortunately stobe bels 's.i noticed that shenry is from best part of th\n",
      "better combinations, friendly events. there are bonus!!!!i've seen the routine thing to suggest you have two stretches at a small card and my goodness\n",
      "my taco is normally!! the best and this place is actually stalking and after we've had carrots before compliments of all the toohs. for the world.  de\n",
      "we didunt, real shop, and a new crazy hummus. i did not find some money up just enough quiet items. the place is amazing and they come in right for th\n",
      "discovered the fun i come out to the girl.  the pre-school salad was a sweet, seating and all so just a bottle of the dishes (or more matscheeling kay\n",
      "great sushi brew (here you can tell leahal-art) once went with some of that!  i finally didn't want to drink at marghart crams that come here. as for \n",
      "when we can't find but place was large for my favorite place where one of those dinners are also great. we live in the early and always return! leave \n",
      "can touch me salt.  with the way change and definitely honest, we had a flighted headberries and meats. the food was continued. every size and course \n",
      "my waiter, and let be meeting on a waiting door office. (yes, the paleage home to shrimp across the back tacos rango\", with efficients basically celeb\n",
      "they were great that tight a comment of white sign.  the got them listed to a cheap of good comments into other restaurants all less changing waffles,\n",
      "to top inside in fact, with a restaurant family freshly especially the park of quality lines. i sat on a couple of days of open man & good nachos (her\n",
      "heaven was selicious.  with to grow and ballary may must be to have some of the apartments there with anything in love with the ton of anything specia\n",
      "incredibly nice to an advice. everything was so fresh, and i am not coursed with their u-worst pieces. but just happy completely ask guest......=why i\n",
      "with much lunch when we suggested. the sausage is perfect but my year ago did my own dirbs are definitely the best hard...the options were kind-- we a\n",
      "and there was no strip off an upcome out of the city because i never tell everything that everyone is extremely friendly. imagine always gives me a mo\n",
      "in the valley;this (bathroom, mord cardline flaburance:) so accommodating. i usually forget to class red heat more. my mom had no class wrong before e\n",
      "and most of they really enjoyed our crepes....  when i ordered any champagne wrong impressions and i could have gone to weather but worth it!\n",
      "i was going to worry, but bled me and ladies knowing how much i was super awesome was handled an hour and only was kind.  it's a twicing in the progra\n",
      "my wife has been able to say an airport a few appetizers and i had to talk about this place! all including hoon push other sauce stars is watering and\n",
      "and clients to sake diagnoses your sturn's without fup.always know what to open up for us with a place that make some presentation fees himself as be \n",
      "there came to their phone has just cleaned the fan. finally, the broasted risket bacon was easy. annual asian seating area and everything was amazing.\n",
      "see most people so you dont look to easily read carles. color steve local kolboss j'agazicingrot, etc.  or a weekend note: its the perfectly banana tr\n",
      "he called in an awesome tremendous perfect temperature of the quality in palace and had so much even if you love that.\n",
      "has the best base to everyone. the service is always amazing! this is located after his staff.  this is the master majority of the kondiead dishes and\n",
      "you can try the package of fish.  with a massage, the hot burger roll beries carning pizza, 1) but pea bottles with discommand was great, delicious an\n",
      "i'll say, even a more server in vegas to say, a used total dealer near everything like accept one\n",
      "in great, generally, happy and tasty salon!  they encouraged the girls.  i went with a swim store for now, regularly scheduled on future, chris, he wa\n",
      "steak.  18:45 usural, it was super very friendly and had a fabulous pizza!!airya-agreeted we got a black tajara and were remarkable with little goods.\n",
      "bucks!!!!!not great with a remember of the anumority, some of the same accompanied waiting of many saturdays as for me. there is what you like this ch\n",
      "wasn't this. thanks so much early!\n",
      "for change. so right now and have a good outdoor spot to eat here. the service is quite in and when your need you grew up, but i did not give accompan\n",
      "on the weeks.\n",
      "portasswims opened the top! i can't even have the buffalo options before i was quite deserved by a great iced crunch of both italian food. his card an\n",
      "start to bump until she knew to ordering our veggiesserted powers for a lunch or the patty landscape!! she was a treat, and i will definitely come bac\n",
      "with definitely discount yet, carmamen, but then from being styled so especially for the next day. there on its acty, makes you feel very attentive, b\n",
      "went away before once we understand how to watch their dentist that i needed from work drinked.go.it's probably a good selection of hot patios before \n",
      "- i haven't had a dress center interesting lots.last year, there's lots of theater worked provided to took their if we will still take gang.  we will \n",
      "the fish was packed at the birthday too.  2. margaritas are so different!\n",
      "and i've yet to find this star roll club!\n",
      "our office attention to our soup or as a friend, the late visit it was scrient schrobbly. two smaller dessert places being happy hour and the flavorfu\n",
      "for the experience here. so we can sweet different other things, their other jobs for i booked an ingredient. they aren't too...there is just making g\n",
      "- nice and new or towel said, all that there record **7+5? there are best store plunchers, but today it's as great as it go sweet.\n",
      "{pair of crispy but which took a little cooked with tempura sprinkles, and their fact that their world was so helpful and private and knowledgeable, i\n",
      "even sacepha okay (upon last, you get their table and the staff are amazing, your first time i forgot it was intimal but we do the amps area case. kid\n",
      "he is very uptone and hopefully and their lunch taste really fluffy, but amazing, came out quite fresh and fluffy and topped with fries.  the girl imm\n",
      "that neighborhood looks like a daigner (at even order montas fried bbq... experience atmosphere, don't feel like you're extra location scarpige, plent\n",
      "but possibly the piercing of food compared to a seafood ballack place for brunch.they let you have dinner point with your own new favorite spa here. a\n",
      "a can find my bathroom hair is my car.\n",
      "so i made friends and who always made a hassle here. i told to me what the cocktails were looking for while i would like to order from la best of the \n",
      "great package, and although sorry\n",
      "when she says it was a bill burrito by noodles, at the fried general $75p in pizza was nice enough to help me just thank you in deals!!  #1.00 capus c\n",
      "no other location. i find the size of the geast bottle of their own helpful regular way to how you go there, and highly recommend friends, i have adve\n",
      "immediately with taxakin chili peanuts, changing, and caring trainers the dish! i really enjoy staying in phoenix for their manner has from the review\n",
      "so we decided to give this a class and on dinner.this is the only downside-- being said it would be my sweathead. got acrea my edamame couples within \n",
      "my favorite.  so i say this place is also perfect! the employees play from with everything gluten free fried rice and a hands down resist. along with \n",
      "however, it tasted like a duck egg. word was wonderful.\n",
      "delicious!\n",
      "a true hard fix!!! the owner, egg, olive and potato was classy, simple and ill take the time to even have found the food is damn again i've never been\n",
      "of the pace of 681.the fried onion, mo puts tinting! unsurely questions in us this place ended up perfectly. the food was outstanding, here is large a\n",
      "upness sad right up a long window of camber but we had the share boke pipe but we sat at the end of the gep! paran is so good that they are very prima\n",
      "we were with a bit of a regular life and she gave me a great summer pamportrile to tempe. the waitress was really super cool breakfast. she gives me c\n",
      "made fresh meal. this was the mistake of a visit before  we were there with 3 different perfect shared fbq big goats, which were different and decentl\n",
      "all of our company had cut out in. thank you mangreae! every sirul is amazing, and we got debis sitting myself.  i think the lovely more delivered the\n",
      "pairless products not fancy.  trying to go anything on the guandi warm at about a hole...)staff, a little over their friendly. our new desserts at the\n",
      "i love the ausperience of cost which i didn't enjoy.\n",
      "deals? at about 30 years now? manager took me to my eyecork hotel and paid the tickets, and then they should go to.i would definitely returned!\n",
      "$9. when we went to the moment i wanted one diner! so i thought its hard to come upon this place so i did not tell you it is.  i had dining at the dis\n",
      "mini had a great experience. i've never felt surprised. it was heavy and crunchy. the house steaks was very comfortable, even with chicken-menu ((whic\n",
      "incredibly genuinely professionalism and efficient management food too!\n",
      "have on time to get back so on the night.  he usually knew wow up to a mausgland of beef before and ampped me fun! a small, lot of friends seering a t\n",
      "full beef and well smelly stuffed with business and all are right! amazing him review.one of the sweet beef beans and shrimp that laughers are fast. t\n",
      "always feel like i'm in pancake. if you havent really don't actually precise i'd take your bar eclunch but you won't be disappointed - hytor does a fa\n",
      "b/flowers in a great place. we like their dave and potato schedule for any husband by far. and the rest of the in law is amazing. he has a very attent\n",
      "50 minutes, i set it for that! the bread sleegles of mill and roberts, listen of miar screens and surgedge and to taste. my quide of the side of me!it\n",
      "going to tob!  a clean city the staff were so fun, and he was generous. i selected places (so coming to the wait. the limo are a stylist instead of th\n",
      "8-12 buddies (sweet bananas - towards the bass) movewelry for a couple of themselves within a $10 little bite.competitive baked portion of that after \n",
      "beats that this place is, but it is not at fural potatoes or special bases on people that i understand one of the best. the call standing on the deal \n",
      "and they only take some quite shopping and bright and hearty.if you're not a big fan of issues, but highly recommended!\n",
      "we've always made it for a haircut. i'm really disappointed with this chinese food at the lot as far as the store normally friday covered it and offer\n",
      "(honest for extensive each class looking for the layer mushroom store) was the sample of peanuts in the shape of country. creamy, pulled pork, atmosph\n",
      "card challenge. just drink at list on bad.  if you are in my last dont-'n care your desert, updates you try a time....experience that they aren't meal\n",
      "customer service is just on the puts very enough to get on before i would have lucky. loved that the wait staff was great, not great and offering up t\n",
      "so i looked at words on my second review, to come tolarized. really loved it!\n",
      "sat one i even gave off a dieco neighborhood before getting a paid of it. especially since i was just not sure if my books had that side of the \"charf\n",
      "the perfect beef shop. i like the inventory staff and i also liked their cauring potatoes. prices are bigger than your humous if not transtored.plus, \n",
      "walked in and when i colored the strip! there was eight shampha friends.  soup with loss working or red readed the polento for quick needs and tussed \n",
      "it didn't just cash i can give you it right move here. my prepared other place is awesome. stereals are far among your boyfriend or backs and trying o\n",
      "full places ((19 country) of leagues are at great place to go as i bought 3 smiles. why comes great but they are super low clean with real huge. they \n",
      "and all just when i wants to wait!!!!!\n",
      "japanese, friendly reviews, the guy enjoyed the products. i can say how they were burgers. you can see showouts. i have been to her in front of your w\n",
      "proudly experienced promotions i wouldn't return and get your man!vi you have amazing staff and i will love the quality of the salon!!! a hotel or nic\n",
      "you name 1230 for it and will recommend as i look forward to her at this place! leaving example of the areas are the staff and method skirt shouts of \n",
      "for healthy areas nriss into the service. overall, i am not taken about any four of the staff to go, it can tell you that but this is so memorable unt\n"
     ]
    }
   ],
   "source": [
    "for review in clipped_review_list:\n",
    "    print(review)"
   ]
  },
  {
   "cell_type": "code",
   "execution_count": 18,
   "metadata": {},
   "outputs": [],
   "source": [
    "generated_review_char_list = [item for sublist in clipped_review_list for item in sublist]"
   ]
  },
  {
   "cell_type": "code",
   "execution_count": 19,
   "metadata": {},
   "outputs": [],
   "source": [
    "generated_chars = pd.Series(generated_review_char_list)"
   ]
  },
  {
   "cell_type": "code",
   "execution_count": 20,
   "metadata": {},
   "outputs": [
    {
     "data": {
      "text/plain": [
       "count     13070\n",
       "unique       56\n",
       "top            \n",
       "freq       2376\n",
       "dtype: object"
      ]
     },
     "execution_count": 20,
     "metadata": {},
     "output_type": "execute_result"
    }
   ],
   "source": [
    "generated_chars.describe()"
   ]
  },
  {
   "cell_type": "code",
   "execution_count": 21,
   "metadata": {},
   "outputs": [
    {
     "name": "stdout",
     "output_type": "stream",
     "text": [
      "[]\n"
     ]
    }
   ],
   "source": [
    "#import collections\n",
    "print([item for item, count in collections.Counter(generated_reviews).items() if count > 1])"
   ]
  },
  {
   "cell_type": "code",
   "execution_count": 22,
   "metadata": {},
   "outputs": [],
   "source": [
    "char_counts = collections.Counter(generated_review_char_list).items()"
   ]
  },
  {
   "cell_type": "code",
   "execution_count": 23,
   "metadata": {},
   "outputs": [
    {
     "name": "stdout",
     "output_type": "stream",
     "text": [
      "('o', 762)\n",
      "('f', 286)\n",
      "(' ', 2376)\n",
      "('y', 253)\n",
      "('u', 288)\n",
      "('r', 602)\n",
      "('b', 156)\n",
      "('w', 252)\n",
      "('s', 646)\n",
      "('e', 1294)\n",
      "(',', 86)\n",
      "('a', 913)\n",
      "('t', 934)\n",
      "('l', 430)\n",
      "('h', 514)\n",
      "('i', 686)\n",
      "('n', 624)\n",
      "('k', 97)\n",
      "('g', 229)\n",
      "('c', 283)\n",
      "(\"'\", 34)\n",
      "('d', 400)\n",
      "('.', 147)\n",
      "('p', 210)\n",
      "('v', 112)\n",
      "('m', 235)\n",
      "('!', 63)\n",
      "('&', 2)\n",
      "('z', 21)\n",
      "('j', 20)\n",
      "('q', 13)\n",
      "('-', 15)\n",
      "('(', 14)\n",
      "(')', 7)\n",
      "('\"', 2)\n",
      "('=', 1)\n",
      "('x', 13)\n",
      "(';', 1)\n",
      "(':', 3)\n",
      "('1', 8)\n",
      "('8', 3)\n",
      "('4', 1)\n",
      "('5', 4)\n",
      "('2', 3)\n",
      "('*', 2)\n",
      "('7', 2)\n",
      "('+', 1)\n",
      "('?', 3)\n",
      "('{', 1)\n",
      "('$', 3)\n",
      "('#', 1)\n",
      "('0', 6)\n",
      "('6', 1)\n",
      "('3', 4)\n",
      "('9', 2)\n",
      "('/', 1)\n"
     ]
    }
   ],
   "source": [
    "for item in char_counts:\n",
    "    print(item)"
   ]
  },
  {
   "cell_type": "code",
   "execution_count": 68,
   "metadata": {},
   "outputs": [],
   "source": [
    "char_list = []\n",
    "count_list = []\n",
    "for a in char_counts:\n",
    "    #print(a[0])\n",
    "    #print(a[1])\n",
    "    if a[0] != \" \":\n",
    "        #print(a[1])\n",
    "        char_list.append(a[0])\n",
    "        count_list.append(a[1])"
   ]
  },
  {
   "cell_type": "code",
   "execution_count": null,
   "metadata": {},
   "outputs": [],
   "source": []
  },
  {
   "cell_type": "code",
   "execution_count": null,
   "metadata": {},
   "outputs": [],
   "source": [
    "#total - spaces\n",
    "total_chars = 1370 - 236\n"
   ]
  }
 ],
 "metadata": {
  "kernelspec": {
   "display_name": "Python 3",
   "language": "python",
   "name": "python3"
  },
  "language_info": {
   "codemirror_mode": {
    "name": "ipython",
    "version": 3
   },
   "file_extension": ".py",
   "mimetype": "text/x-python",
   "name": "python",
   "nbconvert_exporter": "python",
   "pygments_lexer": "ipython3",
   "version": "3.6.5"
  }
 },
 "nbformat": 4,
 "nbformat_minor": 2
}
